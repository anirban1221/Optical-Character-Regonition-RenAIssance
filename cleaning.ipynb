{
 "cells": [
  {
   "cell_type": "code",
   "execution_count": 4,
   "metadata": {},
   "outputs": [],
   "source": [
    "import cv2\n",
    "import numpy as np\n",
    "from PIL import Image"
   ]
  },
  {
   "cell_type": "code",
   "execution_count": 2,
   "metadata": {},
   "outputs": [
    {
     "name": "stdout",
     "output_type": "stream",
     "text": [
      "Note: you may need to restart the kernel to use updated packages.\n"
     ]
    },
    {
     "name": "stderr",
     "output_type": "stream",
     "text": [
      "\n",
      "[notice] A new release of pip is available: 24.3.1 -> 25.0.1\n",
      "[notice] To update, run: python.exe -m pip install --upgrade pip\n"
     ]
    },
    {
     "name": "stdout",
     "output_type": "stream",
     "text": [
      "Requirement already satisfied: pdf2image in c:\\users\\anirban\\appdata\\local\\programs\\python\\python312\\lib\\site-packages (1.17.0)\n",
      "Requirement already satisfied: opencv-python in c:\\users\\anirban\\appdata\\local\\programs\\python\\python312\\lib\\site-packages (4.10.0.84)\n",
      "Requirement already satisfied: pillow in c:\\users\\anirban\\appdata\\roaming\\python\\python312\\site-packages (10.1.0)\n",
      "Requirement already satisfied: numpy>=1.21.2 in c:\\users\\anirban\\appdata\\roaming\\python\\python312\\site-packages (from opencv-python) (1.26.2)\n"
     ]
    }
   ],
   "source": [
    "pip install pdf2image opencv-python pillow"
   ]
  },
  {
   "cell_type": "code",
   "execution_count": 5,
   "metadata": {},
   "outputs": [],
   "source": [
    "from pdf2image import convert_from_path"
   ]
  },
  {
   "cell_type": "code",
   "execution_count": 6,
   "metadata": {},
   "outputs": [],
   "source": [
    "import os\n",
    "def pdf_to_images(pdf_path,output_folder,dpi=300):\n",
    "    images=convert_from_path(pdf_path,dpi=dpi)\n",
    "    os.makedirs(output_folder,exist_ok=True)\n",
    "    image_paths=[]\n",
    "\n",
    "    for i,img in enumerate(images):\n",
    "        img_path=os.path.join(output_folder,f\"page_{i+1}.jpg\")\n",
    "        img.save(img_path,\"jPEG\")\n",
    "        image_paths.append(img_path)\n",
    "\n",
    "    return image_paths"
   ]
  },
  {
   "cell_type": "code",
   "execution_count": 7,
   "metadata": {},
   "outputs": [
    {
     "name": "stdout",
     "output_type": "stream",
     "text": [
      "saved images:  ['output_images\\\\page_1.jpg', 'output_images\\\\page_2.jpg', 'output_images\\\\page_3.jpg', 'output_images\\\\page_4.jpg', 'output_images\\\\page_5.jpg', 'output_images\\\\page_6.jpg']\n"
     ]
    }
   ],
   "source": [
    "pdf_path='Constituciones sinodales Calahorra 1602.pdf'\n",
    "output_folder='output_images'\n",
    "image_paths=pdf_to_images(pdf_path,output_folder)\n",
    "print('saved images: ',image_paths)"
   ]
  },
  {
   "cell_type": "code",
   "execution_count": 18,
   "metadata": {},
   "outputs": [
    {
     "name": "stdout",
     "output_type": "stream",
     "text": [
      "saved images:  ['output_images-Buendia - Instruccion\\\\page_1.jpg', 'output_images-Buendia - Instruccion\\\\page_2.jpg', 'output_images-Buendia - Instruccion\\\\page_3.jpg', 'output_images-Buendia - Instruccion\\\\page_4.jpg', 'output_images-Buendia - Instruccion\\\\page_5.jpg', 'output_images-Buendia - Instruccion\\\\page_6.jpg']\n"
     ]
    }
   ],
   "source": [
    "pdf_path='Buendia - Instruccion.pdf'\n",
    "output_folder='output_images-Buendia - Instruccion'\n",
    "image_paths=pdf_to_images(pdf_path,output_folder)\n",
    "print('saved images: ',image_paths)"
   ]
  },
  {
   "cell_type": "code",
   "execution_count": 19,
   "metadata": {},
   "outputs": [
    {
     "name": "stdout",
     "output_type": "stream",
     "text": [
      "saved images:  ['output_images-Ezcaray - Vozes\\\\page_1.jpg', 'output_images-Ezcaray - Vozes\\\\page_2.jpg', 'output_images-Ezcaray - Vozes\\\\page_3.jpg', 'output_images-Ezcaray - Vozes\\\\page_4.jpg', 'output_images-Ezcaray - Vozes\\\\page_5.jpg', 'output_images-Ezcaray - Vozes\\\\page_6.jpg', 'output_images-Ezcaray - Vozes\\\\page_7.jpg', 'output_images-Ezcaray - Vozes\\\\page_8.jpg', 'output_images-Ezcaray - Vozes\\\\page_9.jpg', 'output_images-Ezcaray - Vozes\\\\page_10.jpg', 'output_images-Ezcaray - Vozes\\\\page_11.jpg']\n"
     ]
    }
   ],
   "source": [
    "pdf_path='Ezcaray - Vozes.pdf'\n",
    "output_folder='output_images-Ezcaray - Vozes'\n",
    "image_paths=pdf_to_images(pdf_path,output_folder)\n",
    "print('saved images: ',image_paths)"
   ]
  },
  {
   "cell_type": "code",
   "execution_count": 7,
   "metadata": {},
   "outputs": [
    {
     "name": "stdout",
     "output_type": "stream",
     "text": [
      "saved images:  ['output_images-Mendo - Principe perfecto\\\\page_1.jpg', 'output_images-Mendo - Principe perfecto\\\\page_2.jpg', 'output_images-Mendo - Principe perfecto\\\\page_3.jpg', 'output_images-Mendo - Principe perfecto\\\\page_4.jpg', 'output_images-Mendo - Principe perfecto\\\\page_5.jpg', 'output_images-Mendo - Principe perfecto\\\\page_6.jpg', 'output_images-Mendo - Principe perfecto\\\\page_7.jpg', 'output_images-Mendo - Principe perfecto\\\\page_8.jpg', 'output_images-Mendo - Principe perfecto\\\\page_9.jpg']\n"
     ]
    }
   ],
   "source": [
    "pdf_path='Mendo - Principe perfecto.pdf'\n",
    "output_folder='output_images-Mendo - Principe perfecto'\n",
    "image_paths=pdf_to_images(pdf_path,output_folder)\n",
    "print('saved images: ',image_paths)"
   ]
  },
  {
   "cell_type": "code",
   "execution_count": 21,
   "metadata": {},
   "outputs": [
    {
     "name": "stdout",
     "output_type": "stream",
     "text": [
      "saved images:  ['output_images-Paredes - Reglas generales\\\\page_1.jpg', 'output_images-Paredes - Reglas generales\\\\page_2.jpg', 'output_images-Paredes - Reglas generales\\\\page_3.jpg', 'output_images-Paredes - Reglas generales\\\\page_4.jpg', 'output_images-Paredes - Reglas generales\\\\page_5.jpg', 'output_images-Paredes - Reglas generales\\\\page_6.jpg', 'output_images-Paredes - Reglas generales\\\\page_7.jpg', 'output_images-Paredes - Reglas generales\\\\page_8.jpg', 'output_images-Paredes - Reglas generales\\\\page_9.jpg']\n"
     ]
    }
   ],
   "source": [
    "pdf_path='Paredes - Reglas generales.pdf'\n",
    "output_folder='output_images-Paredes - Reglas generales'\n",
    "image_paths=pdf_to_images(pdf_path,output_folder)\n",
    "print('saved images: ',image_paths)"
   ]
  },
  {
   "cell_type": "code",
   "execution_count": 22,
   "metadata": {},
   "outputs": [
    {
     "name": "stderr",
     "output_type": "stream",
     "text": [
      "Exception in thread Thread-39 (_readerthread):\n",
      "Traceback (most recent call last):\n",
      "  File \"c:\\Users\\Anirban\\AppData\\Local\\Programs\\Python\\Python312\\Lib\\threading.py\", line 1075, in _bootstrap_inner\n",
      "    self.run()\n",
      "  File \"C:\\Users\\Anirban\\AppData\\Roaming\\Python\\Python312\\site-packages\\ipykernel\\ipkernel.py\", line 766, in run_closure\n",
      "    _threading_Thread_run(self)\n",
      "  File \"c:\\Users\\Anirban\\AppData\\Local\\Programs\\Python\\Python312\\Lib\\threading.py\", line 1012, in run\n",
      "    self._target(*self._args, **self._kwargs)\n",
      "  File \"c:\\Users\\Anirban\\AppData\\Local\\Programs\\Python\\Python312\\Lib\\subprocess.py\", line 1599, in _readerthread\n",
      "    buffer.append(fh.read())\n",
      "                  ^^^^^^^^^\n",
      "MemoryError\n"
     ]
    }
   ],
   "source": [
    "pdf_path='PORCONES.228.35-1636.pdf'\n",
    "output_folder='output_images-PORCONES.228.35-1636'\n",
    "image_paths=pdf_to_images(pdf_path,output_folder)\n",
    "print('saved images: ',image_paths)"
   ]
  },
  {
   "cell_type": "code",
   "execution_count": 8,
   "metadata": {},
   "outputs": [],
   "source": [
    "## enhancing image quality\n",
    "\n",
    "def preprocess_image(image_path,output_folder):\n",
    "    img=cv2.imread(image_path,cv2.IMREAD_GRAYSCALE)\n",
    "\n",
    "    binarized=cv2.adaptiveThreshold(img,255,cv2.ADAPTIVE_THRESH_GAUSSIAN_C,cv2.THRESH_BINARY,11,2)\n",
    "\n",
    "    denoised=cv2.fastNlMeansDenoising(binarized,h=10)\n",
    "\n",
    "    os.makedirs(output_folder,exist_ok=True)\n",
    "    processed_path=os.path.join(output_folder,os.path.basename(image_path))\n",
    "    cv2.imwrite(processed_path,denoised)\n",
    "\n",
    "    return processed_path"
   ]
  },
  {
   "cell_type": "code",
   "execution_count": 9,
   "metadata": {},
   "outputs": [
    {
     "name": "stdout",
     "output_type": "stream",
     "text": [
      "processed Images ['processed_image\\\\page_1.jpg', 'processed_image\\\\page_2.jpg', 'processed_image\\\\page_3.jpg', 'processed_image\\\\page_4.jpg', 'processed_image\\\\page_5.jpg', 'processed_image\\\\page_6.jpg']\n"
     ]
    }
   ],
   "source": [
    "processed_images=[preprocess_image(img,\"processed_image\")for img in image_paths]\n",
    "print(\"processed Images\",processed_images)"
   ]
  },
  {
   "cell_type": "code",
   "execution_count": 8,
   "metadata": {},
   "outputs": [],
   "source": [
    "def preprocess_images_in_directory(input_dir):\n",
    "    \"\"\"Processes all images in a directory and saves them in a 'processed' subfolder inside the same directory.\"\"\"\n",
    "    processed_dir = os.path.join(input_dir, \"processed\")  # Create 'processed' subfolder inside each PDF's directory\n",
    "    os.makedirs(processed_dir, exist_ok=True)\n",
    "    \n",
    "    for filename in os.listdir(input_dir):\n",
    "        if filename.endswith(\".jpg\") or filename.endswith(\".png\"):\n",
    "            image_path = os.path.join(input_dir, filename)\n",
    "            output_path = os.path.join(processed_dir, filename)  # Save inside 'processed' subfolder\n",
    "            \n",
    "            # Read image in grayscale\n",
    "            img = cv2.imread(image_path, cv2.IMREAD_GRAYSCALE)\n",
    "            \n",
    "            # Apply Adaptive Thresholding (Binarization)\n",
    "            binarized = cv2.adaptiveThreshold(img, 255, cv2.ADAPTIVE_THRESH_GAUSSIAN_C, cv2.THRESH_BINARY, 11, 2)\n",
    "            \n",
    "            # Apply Denoising\n",
    "            denoised = cv2.fastNlMeansDenoising(binarized, h=10)\n",
    "            \n",
    "            # Save the processed image\n",
    "            cv2.imwrite(output_path, denoised)\n",
    "    \n",
    "    print(f\"Processed images saved in: {processed_dir}\")\n",
    "\n",
    "\n",
    "\n",
    "# List of directories for each PDF's images\n",
    "pdf_directories = [\n",
    "    \"output_images-Buendia - Instruccion\", \"output_images-Ezcaray - Vozes\", \"output_images-Paredes - Reglas generales\",\n",
    "    \"output_images-Mendo - Principe perfecto\"\n",
    "]"
   ]
  },
  {
   "cell_type": "code",
   "execution_count": 12,
   "metadata": {},
   "outputs": [],
   "source": [
    "## text Segmentation to ignore Marginalia\n",
    "\n",
    "def extract_text_region(image_path,output_folder):\n",
    "    img=cv2.imread(image_path,cv2.IMREAD_GRAYSCALE)\n",
    "\n",
    "    _, binary=cv2.threshold(img,150,255,cv2.THRESH_BINARY_INV)\n",
    "\n",
    "    contours,_=cv2.findContours(binary,cv2.RETR_EXTERNAL,cv2.CHAIN_APPROX_SIMPLE)\n",
    "\n",
    "    x,y,w,h=cv2.boundingRect(np.vstack(contours))\n",
    "    cropped=img[y:y+h,x:x+w]\n",
    "\n",
    "    os.makedirs(output_folder,exist_ok=True)\n",
    "    cropped_path=os.path.join(output_folder,os.path.basename(image_path))\n",
    "    cv2.imwrite(cropped_path,cropped)\n",
    "\n",
    "    return cropped_path\n"
   ]
  },
  {
   "cell_type": "code",
   "execution_count": 9,
   "metadata": {},
   "outputs": [
    {
     "name": "stdout",
     "output_type": "stream",
     "text": [
      "Processed images saved in: output_images-Buendia - Instruccion\\processed\n",
      "Processed images saved in: output_images-Ezcaray - Vozes\\processed\n",
      "Processed images saved in: output_images-Paredes - Reglas generales\\processed\n",
      "Processed images saved in: output_images-Mendo - Principe perfecto\\processed\n"
     ]
    }
   ],
   "source": [
    "for pdf_dir in pdf_directories:\n",
    "    preprocess_images_in_directory(pdf_dir)"
   ]
  },
  {
   "cell_type": "code",
   "execution_count": 13,
   "metadata": {},
   "outputs": [
    {
     "name": "stdout",
     "output_type": "stream",
     "text": [
      "cropped Text Regions:  ['cropped_images\\\\page_1.jpg', 'cropped_images\\\\page_2.jpg', 'cropped_images\\\\page_3.jpg', 'cropped_images\\\\page_4.jpg', 'cropped_images\\\\page_5.jpg', 'cropped_images\\\\page_6.jpg']\n"
     ]
    }
   ],
   "source": [
    "cropped_images=[extract_text_region(img,\"cropped_images\")for img in processed_images]\n",
    "print(\"cropped Text Regions: \",cropped_images)"
   ]
  },
  {
   "cell_type": "code",
   "execution_count": 11,
   "metadata": {},
   "outputs": [
    {
     "name": "stderr",
     "output_type": "stream",
     "text": [
      "<>:33: SyntaxWarning: invalid escape sequence '\\p'\n",
      "<>:33: SyntaxWarning: invalid escape sequence '\\p'\n",
      "<>:33: SyntaxWarning: invalid escape sequence '\\p'\n",
      "<>:34: SyntaxWarning: invalid escape sequence '\\p'\n",
      "<>:33: SyntaxWarning: invalid escape sequence '\\p'\n",
      "<>:33: SyntaxWarning: invalid escape sequence '\\p'\n",
      "<>:33: SyntaxWarning: invalid escape sequence '\\p'\n",
      "<>:34: SyntaxWarning: invalid escape sequence '\\p'\n",
      "C:\\Users\\Anirban\\AppData\\Local\\Temp\\ipykernel_19524\\2279822393.py:33: SyntaxWarning: invalid escape sequence '\\p'\n",
      "  \"output_images-Buendia - Instruccion\\processed\", \"output_images-Ezcaray - Vozes\\processed\", \"output_images-Paredes - Reglas generales\\processed\",\n",
      "C:\\Users\\Anirban\\AppData\\Local\\Temp\\ipykernel_19524\\2279822393.py:33: SyntaxWarning: invalid escape sequence '\\p'\n",
      "  \"output_images-Buendia - Instruccion\\processed\", \"output_images-Ezcaray - Vozes\\processed\", \"output_images-Paredes - Reglas generales\\processed\",\n",
      "C:\\Users\\Anirban\\AppData\\Local\\Temp\\ipykernel_19524\\2279822393.py:33: SyntaxWarning: invalid escape sequence '\\p'\n",
      "  \"output_images-Buendia - Instruccion\\processed\", \"output_images-Ezcaray - Vozes\\processed\", \"output_images-Paredes - Reglas generales\\processed\",\n",
      "C:\\Users\\Anirban\\AppData\\Local\\Temp\\ipykernel_19524\\2279822393.py:34: SyntaxWarning: invalid escape sequence '\\p'\n",
      "  \"output_images-Mendo - Principe perfecto\\processed\"]\n"
     ]
    }
   ],
   "source": [
    "\n",
    "def extract_text_region_in_directory(input_dir):\n",
    "    \"\"\"Extracts the main text from all images in a directory and saves them in a 'segmented' subfolder.\"\"\"\n",
    "    segmented_dir = os.path.join(input_dir, \"segmented\")  # Create 'segmented' subfolder inside each PDF's directory\n",
    "    os.makedirs(segmented_dir, exist_ok=True)\n",
    "    \n",
    "    for filename in os.listdir(input_dir):\n",
    "        if filename.endswith(\".jpg\") or filename.endswith(\".png\"):\n",
    "            image_path = os.path.join(input_dir, filename)\n",
    "            output_path = os.path.join(segmented_dir, filename)  # Save inside 'segmented' subfolder\n",
    "            \n",
    "            # Read image in grayscale\n",
    "            img = cv2.imread(image_path, cv2.IMREAD_GRAYSCALE)\n",
    "\n",
    "            # Apply threshold to create a binary image\n",
    "            _, binary = cv2.threshold(img, 150, 255, cv2.THRESH_BINARY_INV)\n",
    "\n",
    "            # Find contours\n",
    "            contours, _ = cv2.findContours(binary, cv2.RETR_EXTERNAL, cv2.CHAIN_APPROX_SIMPLE)\n",
    "\n",
    "            # Find the bounding box covering the main text\n",
    "            x, y, w, h = cv2.boundingRect(np.vstack(contours))\n",
    "\n",
    "            # Crop the region of interest (ROI) - the main text\n",
    "            cropped = img[y:y+h, x:x+w]\n",
    "\n",
    "            # Save the segmented image\n",
    "            cv2.imwrite(output_path, cropped)\n",
    "    \n",
    "    print(f\"Segmented images saved in: {segmented_dir}\")\n",
    "\n",
    "# List of directories for each PDF's processed images\n",
    "pdf_directories = [\n",
    "    \"output_images-Buendia - Instruccion\\processed\", \"output_images-Ezcaray - Vozes\\processed\", \"output_images-Paredes - Reglas generales\\processed\",\n",
    "    \"output_images-Mendo - Principe perfecto\\processed\"]\n",
    "            \n",
    "  \n"
   ]
  },
  {
   "cell_type": "code",
   "execution_count": 12,
   "metadata": {},
   "outputs": [
    {
     "name": "stdout",
     "output_type": "stream",
     "text": [
      "Segmented images saved in: output_images-Buendia - Instruccion\\processed\\segmented\n",
      "Segmented images saved in: output_images-Ezcaray - Vozes\\processed\\segmented\n",
      "Segmented images saved in: output_images-Paredes - Reglas generales\\processed\\segmented\n",
      "Segmented images saved in: output_images-Mendo - Principe perfecto\\processed\\segmented\n"
     ]
    }
   ],
   "source": [
    "for processed_dir in pdf_directories:\n",
    "    extract_text_region_in_directory(processed_dir)"
   ]
  },
  {
   "cell_type": "code",
   "execution_count": 16,
   "metadata": {},
   "outputs": [],
   "source": [
    "## data Augmentation(adding noise for Robustness)\n",
    "def augment_image(image_path,output_folder):\n",
    "    ##adding random NOISE\n",
    "    img=cv2.imread(image_path,cv2.IMREAD_GRAYSCALE)\n",
    "    ##adding GaussianBLUR\n",
    "    blurred=cv2.GaussianBlur(img,(5,5),0)\n",
    "    ## add synthetic noise\n",
    "    noise=np.random.normal(0,10,img.shape).astype(np.uint8)\n",
    "    noisy=cv2.add(img,noise)\n",
    "    #save the noisy variations\n",
    "    os.makedirs(output_folder,exist_ok=True)\n",
    "    blur_path=os.path.join(output_folder,f\"blur_{os.path.basename(image_path)}\")\n",
    "    noise_path=os.path.join(output_folder,f\"noise{os.path.basename(image_path)}\")\n",
    "\n",
    "    cv2.imwrite(blur_path,blurred)\n",
    "    cv2.imwrite(noise_path,noisy)\n",
    "\n",
    "    return(blur_path,noise_path)"
   ]
  },
  {
   "cell_type": "code",
   "execution_count": 17,
   "metadata": {},
   "outputs": [
    {
     "name": "stdout",
     "output_type": "stream",
     "text": [
      "augmented images:  [('augmented_images\\\\blur_page_1.jpg', 'augmented_images\\\\noisepage_1.jpg'), ('augmented_images\\\\blur_page_2.jpg', 'augmented_images\\\\noisepage_2.jpg'), ('augmented_images\\\\blur_page_3.jpg', 'augmented_images\\\\noisepage_3.jpg'), ('augmented_images\\\\blur_page_4.jpg', 'augmented_images\\\\noisepage_4.jpg'), ('augmented_images\\\\blur_page_5.jpg', 'augmented_images\\\\noisepage_5.jpg'), ('augmented_images\\\\blur_page_6.jpg', 'augmented_images\\\\noisepage_6.jpg')]\n"
     ]
    }
   ],
   "source": [
    "augmented_images=[augment_image(img,\"augmented_images\")for img in cropped_images]\n",
    "print(\"augmented images: \",augmented_images)"
   ]
  },
  {
   "cell_type": "code",
   "execution_count": 13,
   "metadata": {},
   "outputs": [
    {
     "name": "stderr",
     "output_type": "stream",
     "text": [
      "<>:50: SyntaxWarning: invalid escape sequence '\\p'\n",
      "<>:50: SyntaxWarning: invalid escape sequence '\\p'\n",
      "<>:50: SyntaxWarning: invalid escape sequence '\\p'\n",
      "<>:51: SyntaxWarning: invalid escape sequence '\\p'\n",
      "<>:50: SyntaxWarning: invalid escape sequence '\\p'\n",
      "<>:50: SyntaxWarning: invalid escape sequence '\\p'\n",
      "<>:50: SyntaxWarning: invalid escape sequence '\\p'\n",
      "<>:51: SyntaxWarning: invalid escape sequence '\\p'\n",
      "C:\\Users\\Anirban\\AppData\\Local\\Temp\\ipykernel_19524\\2939620617.py:50: SyntaxWarning: invalid escape sequence '\\p'\n",
      "  \"output_images-Buendia - Instruccion\\processed\\segmented\", \"output_images-Ezcaray - Vozes\\processed\\segmented\", \"output_images-Paredes - Reglas generales\\processed\\segmented\",\n",
      "C:\\Users\\Anirban\\AppData\\Local\\Temp\\ipykernel_19524\\2939620617.py:50: SyntaxWarning: invalid escape sequence '\\p'\n",
      "  \"output_images-Buendia - Instruccion\\processed\\segmented\", \"output_images-Ezcaray - Vozes\\processed\\segmented\", \"output_images-Paredes - Reglas generales\\processed\\segmented\",\n",
      "C:\\Users\\Anirban\\AppData\\Local\\Temp\\ipykernel_19524\\2939620617.py:50: SyntaxWarning: invalid escape sequence '\\p'\n",
      "  \"output_images-Buendia - Instruccion\\processed\\segmented\", \"output_images-Ezcaray - Vozes\\processed\\segmented\", \"output_images-Paredes - Reglas generales\\processed\\segmented\",\n",
      "C:\\Users\\Anirban\\AppData\\Local\\Temp\\ipykernel_19524\\2939620617.py:51: SyntaxWarning: invalid escape sequence '\\p'\n",
      "  \"output_images-Mendo - Principe perfecto\\processed\\segmented\"]\n"
     ]
    }
   ],
   "source": [
    "import random\n",
    "\n",
    "def apply_augmentations(image):\n",
    "    \"\"\"Applies random augmentations to an image: rotation, scaling, brightness, noise.\"\"\"\n",
    "    \n",
    "    # Rotation (-5 to 5 degrees)\n",
    "    angle = random.uniform(-5, 5)\n",
    "    h, w = image.shape[:2]\n",
    "    M = cv2.getRotationMatrix2D((w//2, h//2), angle, 1)\n",
    "    rotated = cv2.warpAffine(image, M, (w, h), borderMode=cv2.BORDER_REPLICATE)\n",
    "    \n",
    "    # Scaling (Zoom In/Out: 0.9x to 1.1x)\n",
    "    scale = random.uniform(0.9, 1.1)\n",
    "    scaled = cv2.resize(rotated, None, fx=scale, fy=scale, interpolation=cv2.INTER_LINEAR)\n",
    "    \n",
    "    # Adjust Brightness/Contrast\n",
    "    alpha = random.uniform(0.8, 1.2)  # Contrast control (1.0 means no change)\n",
    "    beta = random.randint(-20, 20)  # Brightness control (-20 to 20)\n",
    "    bright_contrast = cv2.convertScaleAbs(scaled, alpha=alpha, beta=beta)\n",
    "    \n",
    "    # Apply Gaussian Noise\n",
    "    noise = np.random.normal(0, 10, bright_contrast.shape).astype(np.uint8)\n",
    "    noisy = cv2.add(bright_contrast, noise)\n",
    "    \n",
    "    return noisy\n",
    "\n",
    "def augment_images_in_directory(input_dir):\n",
    "    \"\"\"Applies augmentations to all images in a directory and saves them in an 'augmented' subfolder.\"\"\"\n",
    "    augmented_dir = os.path.join(input_dir, \"augmented\")  # Create 'augmented' subfolder inside each PDF's directory\n",
    "    os.makedirs(augmented_dir, exist_ok=True)\n",
    "    \n",
    "    for filename in os.listdir(input_dir):\n",
    "        if filename.endswith(\".jpg\") or filename.endswith(\".png\"):\n",
    "            image_path = os.path.join(input_dir, filename)\n",
    "            output_path = os.path.join(augmented_dir, filename)  # Save inside 'augmented' subfolder\n",
    "            \n",
    "            # Read image in grayscale\n",
    "            img = cv2.imread(image_path, cv2.IMREAD_GRAYSCALE)\n",
    "\n",
    "            # Apply Augmentations\n",
    "            augmented_img = apply_augmentations(img)\n",
    "\n",
    "            # Save the augmented image\n",
    "            cv2.imwrite(output_path, augmented_img)\n",
    "    \n",
    "    print(f\"Augmented images saved in: {augmented_dir}\")\n",
    "\n",
    "# List of directories for each PDF's segmented images\n",
    "pdf_directories = [\n",
    "    \"output_images-Buendia - Instruccion\\processed\\segmented\", \"output_images-Ezcaray - Vozes\\processed\\segmented\", \"output_images-Paredes - Reglas generales\\processed\\segmented\",\n",
    "    \"output_images-Mendo - Principe perfecto\\processed\\segmented\"]\n",
    "\n"
   ]
  },
  {
   "cell_type": "code",
   "execution_count": 15,
   "metadata": {},
   "outputs": [
    {
     "name": "stdout",
     "output_type": "stream",
     "text": [
      "Augmented images saved in: output_images-Buendia - Instruccion\\processed\\segmented\\augmented\n",
      "Augmented images saved in: output_images-Ezcaray - Vozes\\processed\\segmented\\augmented\n",
      "Augmented images saved in: output_images-Paredes - Reglas generales\\processed\\segmented\\augmented\n",
      "Augmented images saved in: output_images-Mendo - Principe perfecto\\processed\\segmented\\augmented\n"
     ]
    }
   ],
   "source": [
    "# Process images in each directory and save them in an 'augmented' subfolder within the same directory\n",
    "for segmented_dir in pdf_directories:\n",
    "    augment_images_in_directory(segmented_dir)"
   ]
  },
  {
   "cell_type": "code",
   "execution_count": null,
   "metadata": {},
   "outputs": [],
   "source": []
  }
 ],
 "metadata": {
  "kernelspec": {
   "display_name": "Python 3",
   "language": "python",
   "name": "python3"
  },
  "language_info": {
   "codemirror_mode": {
    "name": "ipython",
    "version": 3
   },
   "file_extension": ".py",
   "mimetype": "text/x-python",
   "name": "python",
   "nbconvert_exporter": "python",
   "pygments_lexer": "ipython3",
   "version": "3.12.8"
  }
 },
 "nbformat": 4,
 "nbformat_minor": 2
}
