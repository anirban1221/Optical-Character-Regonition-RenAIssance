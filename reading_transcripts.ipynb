{
 "cells": [
  {
   "cell_type": "code",
   "execution_count": 5,
   "metadata": {},
   "outputs": [],
   "source": [
    "from docx import Document\n",
    "import os\n",
    "import re"
   ]
  },
  {
   "cell_type": "code",
   "execution_count": 17,
   "metadata": {},
   "outputs": [],
   "source": [
    "import os\n",
    "import docx\n",
    "\n",
    "def extract_text_by_page(doc_path):\n",
    "    doc = docx.Document(doc_path)\n",
    "    text_pages = {\"page1\": [], \"page2\": [], \"page3\": [],\"page4\":[],\"page5\":[]}\n",
    "    current_page = None\n",
    "    \n",
    "    for para in doc.paragraphs:\n",
    "        text = para.text.strip()\n",
    "        \n",
    "        if \"PDF p1\" in text:\n",
    "            current_page = \"page1\"\n",
    "        elif \"PDF p2\" in text:\n",
    "            current_page = \"page2\"\n",
    "        elif \"PDF p3\" in text:\n",
    "            current_page = \"page3\"\n",
    "        elif \"PDF p4\" in text:\n",
    "            current_page = \"page4\" \n",
    "        elif \"PDF p5\" in text:\n",
    "            current_page = \"page5\"        \n",
    "        if current_page and text and \"PDF p.\" not in text:\n",
    "            text_pages[current_page].append(text)\n",
    "    \n",
    "    return {k: \"\\n\".join(v) for k, v in text_pages.items()}\n",
    "\n",
    "def save_transcripts(doc_paths, output_dir):\n",
    "    if not os.path.exists(output_dir):\n",
    "        os.makedirs(output_dir)\n",
    "    \n",
    "    for doc_path in doc_paths:\n",
    "        doc_name = os.path.splitext(os.path.basename(doc_path))[0].replace(\" transcription\", \"\")\n",
    "        transcript_dir = os.path.join(output_dir, f\"transcript_{doc_name}\")\n",
    "        os.makedirs(transcript_dir, exist_ok=True)\n",
    "        \n",
    "        text_pages = extract_text_by_page(doc_path)\n",
    "        for page, text in text_pages.items():\n",
    "            with open(os.path.join(transcript_dir, f\"{page}.txt\"), \"w\", encoding=\"utf-8\") as f:\n",
    "                f.write(text)\n",
    "    \n",
    "    print(\"Transcripts saved successfully.\")\n",
    "\n",
    "\n",
    "            \n",
    "\n",
    "    \n",
    "\n",
    "\n",
    "    "
   ]
  },
  {
   "cell_type": "code",
   "execution_count": 23,
   "metadata": {},
   "outputs": [
    {
     "name": "stdout",
     "output_type": "stream",
     "text": [
      "Transcripts saved successfully.\n"
     ]
    }
   ],
   "source": [
    "doc_files = [\n",
    "    \n",
    "    \"Ezcaray transcription.docx\",\n",
    "    \"Mendo transcription.docx\",\n",
    "    \"Constituciones sinodales transcription.docx\",\n",
    "    \"Buendia transcription.docx\"\n",
    "]\n",
    "save_transcripts(doc_files, \"output_transcripts\")"
   ]
  },
  {
   "cell_type": "code",
   "execution_count": 17,
   "metadata": {},
   "outputs": [],
   "source": [
    "def extract_text_by_page(doc_path):\n",
    "    doc = docx.Document(doc_path)\n",
    "    text_pages = {\"page1\": [], \"page2\": [], \"page3\": []}\n",
    "    current_page = None\n",
    "    \n",
    "    for para in doc.paragraphs:\n",
    "        text = para.text.strip()\n",
    "        \n",
    "        if \"PDF p. 1\" in text:\n",
    "            current_page = \"page1\"\n",
    "        elif \"PDF p. 2\" in text:\n",
    "            current_page = \"page2\"\n",
    "        elif \"PDF p. 3\" in text:\n",
    "            current_page = \"page3\"\n",
    "        \n",
    "        if current_page and text and \"PDF p.\" not in text:\n",
    "            text_pages[current_page].append(text)\n",
    "    \n",
    "    return {k: \"\\n\".join(v) for k, v in text_pages.items()}\n",
    "\n",
    "def save_transcripts(doc_paths, output_dir):\n",
    "    if not os.path.exists(output_dir):\n",
    "        os.makedirs(output_dir)\n",
    "    \n",
    "    for doc_path in doc_paths:\n",
    "        doc_name = os.path.splitext(os.path.basename(doc_path))[0].replace(\" transcription\", \"\")\n",
    "        transcript_dir = os.path.join(output_dir, f\"transcript_{doc_name}\")\n",
    "        os.makedirs(transcript_dir, exist_ok=True)\n",
    "        \n",
    "        text_pages = extract_text_by_page(doc_path)\n",
    "        for page, text in text_pages.items():\n",
    "            with open(os.path.join(transcript_dir, f\"{page}.txt\"), \"w\", encoding=\"utf-8\") as f:\n",
    "                f.write(text)\n",
    "    \n",
    "    print(\"Transcripts saved successfully.\")"
   ]
  },
  {
   "cell_type": "code",
   "execution_count": 18,
   "metadata": {},
   "outputs": [
    {
     "name": "stdout",
     "output_type": "stream",
     "text": [
      "Transcripts saved successfully.\n"
     ]
    }
   ],
   "source": [
    "doc_files = [\n",
    "    \"Paredes transcription.docx\"\n",
    "]\n",
    "save_transcripts(doc_files, \"output_transcripts\")"
   ]
  },
  {
   "cell_type": "code",
   "execution_count": 10,
   "metadata": {},
   "outputs": [
    {
     "ename": "PackageNotFoundError",
     "evalue": "Package not found at 'Mendo transcription.docx'",
     "output_type": "error",
     "traceback": [
      "\u001b[1;31m---------------------------------------------------------------------------\u001b[0m",
      "\u001b[1;31mPackageNotFoundError\u001b[0m                      Traceback (most recent call last)",
      "\u001b[1;32mc:\\Users\\Anirban\\OneDrive\\Desktop\\OpenSource\\human ai project\\reading_transcripts.ipynb Cell 6\u001b[0m line \u001b[0;36m4\n\u001b[0;32m      <a href='vscode-notebook-cell:/c%3A/Users/Anirban/OneDrive/Desktop/OpenSource/human%20ai%20project/reading_transcripts.ipynb#W5sZmlsZQ%3D%3D?line=0'>1</a>\u001b[0m doc_files \u001b[39m=\u001b[39m [\n\u001b[0;32m      <a href='vscode-notebook-cell:/c%3A/Users/Anirban/OneDrive/Desktop/OpenSource/human%20ai%20project/reading_transcripts.ipynb#W5sZmlsZQ%3D%3D?line=1'>2</a>\u001b[0m     \u001b[39m\"\u001b[39m\u001b[39mMendo transcription.docx\u001b[39m\u001b[39m\"\u001b[39m\n\u001b[0;32m      <a href='vscode-notebook-cell:/c%3A/Users/Anirban/OneDrive/Desktop/OpenSource/human%20ai%20project/reading_transcripts.ipynb#W5sZmlsZQ%3D%3D?line=2'>3</a>\u001b[0m ]\n\u001b[1;32m----> <a href='vscode-notebook-cell:/c%3A/Users/Anirban/OneDrive/Desktop/OpenSource/human%20ai%20project/reading_transcripts.ipynb#W5sZmlsZQ%3D%3D?line=3'>4</a>\u001b[0m save_transcripts(doc_files, \u001b[39m\"\u001b[39;49m\u001b[39moutput_transcripts\u001b[39;49m\u001b[39m\"\u001b[39;49m)\n",
      "\u001b[1;32mc:\\Users\\Anirban\\OneDrive\\Desktop\\OpenSource\\human ai project\\reading_transcripts.ipynb Cell 6\u001b[0m line \u001b[0;36m3\n\u001b[0;32m     <a href='vscode-notebook-cell:/c%3A/Users/Anirban/OneDrive/Desktop/OpenSource/human%20ai%20project/reading_transcripts.ipynb#W5sZmlsZQ%3D%3D?line=32'>33</a>\u001b[0m transcript_dir \u001b[39m=\u001b[39m os\u001b[39m.\u001b[39mpath\u001b[39m.\u001b[39mjoin(output_dir, \u001b[39mf\u001b[39m\u001b[39m\"\u001b[39m\u001b[39mtranscript_\u001b[39m\u001b[39m{\u001b[39;00mdoc_name\u001b[39m}\u001b[39;00m\u001b[39m\"\u001b[39m)\n\u001b[0;32m     <a href='vscode-notebook-cell:/c%3A/Users/Anirban/OneDrive/Desktop/OpenSource/human%20ai%20project/reading_transcripts.ipynb#W5sZmlsZQ%3D%3D?line=33'>34</a>\u001b[0m os\u001b[39m.\u001b[39mmakedirs(transcript_dir, exist_ok\u001b[39m=\u001b[39m\u001b[39mTrue\u001b[39;00m)\n\u001b[1;32m---> <a href='vscode-notebook-cell:/c%3A/Users/Anirban/OneDrive/Desktop/OpenSource/human%20ai%20project/reading_transcripts.ipynb#W5sZmlsZQ%3D%3D?line=35'>36</a>\u001b[0m text_pages \u001b[39m=\u001b[39m extract_text_by_page(doc_path)\n\u001b[0;32m     <a href='vscode-notebook-cell:/c%3A/Users/Anirban/OneDrive/Desktop/OpenSource/human%20ai%20project/reading_transcripts.ipynb#W5sZmlsZQ%3D%3D?line=36'>37</a>\u001b[0m \u001b[39mfor\u001b[39;00m page, text \u001b[39min\u001b[39;00m text_pages\u001b[39m.\u001b[39mitems():\n\u001b[0;32m     <a href='vscode-notebook-cell:/c%3A/Users/Anirban/OneDrive/Desktop/OpenSource/human%20ai%20project/reading_transcripts.ipynb#W5sZmlsZQ%3D%3D?line=37'>38</a>\u001b[0m     \u001b[39mwith\u001b[39;00m \u001b[39mopen\u001b[39m(os\u001b[39m.\u001b[39mpath\u001b[39m.\u001b[39mjoin(transcript_dir, \u001b[39mf\u001b[39m\u001b[39m\"\u001b[39m\u001b[39m{\u001b[39;00mpage\u001b[39m}\u001b[39;00m\u001b[39m.txt\u001b[39m\u001b[39m\"\u001b[39m), \u001b[39m\"\u001b[39m\u001b[39mw\u001b[39m\u001b[39m\"\u001b[39m, encoding\u001b[39m=\u001b[39m\u001b[39m\"\u001b[39m\u001b[39mutf-8\u001b[39m\u001b[39m\"\u001b[39m) \u001b[39mas\u001b[39;00m f:\n",
      "\u001b[1;32mc:\\Users\\Anirban\\OneDrive\\Desktop\\OpenSource\\human ai project\\reading_transcripts.ipynb Cell 6\u001b[0m line \u001b[0;36m5\n\u001b[0;32m      <a href='vscode-notebook-cell:/c%3A/Users/Anirban/OneDrive/Desktop/OpenSource/human%20ai%20project/reading_transcripts.ipynb#W5sZmlsZQ%3D%3D?line=3'>4</a>\u001b[0m \u001b[39mdef\u001b[39;00m \u001b[39mextract_text_by_page\u001b[39m(doc_path):\n\u001b[1;32m----> <a href='vscode-notebook-cell:/c%3A/Users/Anirban/OneDrive/Desktop/OpenSource/human%20ai%20project/reading_transcripts.ipynb#W5sZmlsZQ%3D%3D?line=4'>5</a>\u001b[0m     doc \u001b[39m=\u001b[39m docx\u001b[39m.\u001b[39;49mDocument(doc_path)\n\u001b[0;32m      <a href='vscode-notebook-cell:/c%3A/Users/Anirban/OneDrive/Desktop/OpenSource/human%20ai%20project/reading_transcripts.ipynb#W5sZmlsZQ%3D%3D?line=5'>6</a>\u001b[0m     text_pages \u001b[39m=\u001b[39m {\u001b[39m\"\u001b[39m\u001b[39mpage1\u001b[39m\u001b[39m\"\u001b[39m: [], \u001b[39m\"\u001b[39m\u001b[39mpage2\u001b[39m\u001b[39m\"\u001b[39m: [], \u001b[39m\"\u001b[39m\u001b[39mpage3\u001b[39m\u001b[39m\"\u001b[39m: [],\u001b[39m\"\u001b[39m\u001b[39mpage4\u001b[39m\u001b[39m\"\u001b[39m:[],\u001b[39m\"\u001b[39m\u001b[39mpage5\u001b[39m\u001b[39m\"\u001b[39m:[]}\n\u001b[0;32m      <a href='vscode-notebook-cell:/c%3A/Users/Anirban/OneDrive/Desktop/OpenSource/human%20ai%20project/reading_transcripts.ipynb#W5sZmlsZQ%3D%3D?line=6'>7</a>\u001b[0m     current_page \u001b[39m=\u001b[39m \u001b[39mNone\u001b[39;00m\n",
      "File \u001b[1;32mc:\\Users\\Anirban\\AppData\\Local\\Programs\\Python\\Python312\\Lib\\site-packages\\docx\\api.py:27\u001b[0m, in \u001b[0;36mDocument\u001b[1;34m(docx)\u001b[0m\n\u001b[0;32m     20\u001b[0m \u001b[39m\u001b[39m\u001b[39m\"\"\"Return a |Document| object loaded from `docx`, where `docx` can be either a path\u001b[39;00m\n\u001b[0;32m     21\u001b[0m \u001b[39mto a ``.docx`` file (a string) or a file-like object.\u001b[39;00m\n\u001b[0;32m     22\u001b[0m \n\u001b[0;32m     23\u001b[0m \u001b[39mIf `docx` is missing or ``None``, the built-in default document \"template\" is\u001b[39;00m\n\u001b[0;32m     24\u001b[0m \u001b[39mloaded.\u001b[39;00m\n\u001b[0;32m     25\u001b[0m \u001b[39m\"\"\"\u001b[39;00m\n\u001b[0;32m     26\u001b[0m docx \u001b[39m=\u001b[39m _default_docx_path() \u001b[39mif\u001b[39;00m docx \u001b[39mis\u001b[39;00m \u001b[39mNone\u001b[39;00m \u001b[39melse\u001b[39;00m docx\n\u001b[1;32m---> 27\u001b[0m document_part \u001b[39m=\u001b[39m cast(\u001b[39m\"\u001b[39m\u001b[39mDocumentPart\u001b[39m\u001b[39m\"\u001b[39m, Package\u001b[39m.\u001b[39;49mopen(docx)\u001b[39m.\u001b[39mmain_document_part)\n\u001b[0;32m     28\u001b[0m \u001b[39mif\u001b[39;00m document_part\u001b[39m.\u001b[39mcontent_type \u001b[39m!=\u001b[39m CT\u001b[39m.\u001b[39mWML_DOCUMENT_MAIN:\n\u001b[0;32m     29\u001b[0m     tmpl \u001b[39m=\u001b[39m \u001b[39m\"\u001b[39m\u001b[39mfile \u001b[39m\u001b[39m'\u001b[39m\u001b[39m%s\u001b[39;00m\u001b[39m'\u001b[39m\u001b[39m is not a Word file, content type is \u001b[39m\u001b[39m'\u001b[39m\u001b[39m%s\u001b[39;00m\u001b[39m'\u001b[39m\u001b[39m\"\u001b[39m\n",
      "File \u001b[1;32mc:\\Users\\Anirban\\AppData\\Local\\Programs\\Python\\Python312\\Lib\\site-packages\\docx\\opc\\package.py:127\u001b[0m, in \u001b[0;36mOpcPackage.open\u001b[1;34m(cls, pkg_file)\u001b[0m\n\u001b[0;32m    124\u001b[0m \u001b[39m@classmethod\u001b[39m\n\u001b[0;32m    125\u001b[0m \u001b[39mdef\u001b[39;00m \u001b[39mopen\u001b[39m(\u001b[39mcls\u001b[39m, pkg_file: \u001b[39mstr\u001b[39m \u001b[39m|\u001b[39m IO[\u001b[39mbytes\u001b[39m]) \u001b[39m-\u001b[39m\u001b[39m>\u001b[39m OpcPackage:\n\u001b[0;32m    126\u001b[0m \u001b[39m    \u001b[39m\u001b[39m\"\"\"Return an |OpcPackage| instance loaded with the contents of `pkg_file`.\"\"\"\u001b[39;00m\n\u001b[1;32m--> 127\u001b[0m     pkg_reader \u001b[39m=\u001b[39m PackageReader\u001b[39m.\u001b[39;49mfrom_file(pkg_file)\n\u001b[0;32m    128\u001b[0m     package \u001b[39m=\u001b[39m \u001b[39mcls\u001b[39m()\n\u001b[0;32m    129\u001b[0m     Unmarshaller\u001b[39m.\u001b[39munmarshal(pkg_reader, package, PartFactory)\n",
      "File \u001b[1;32mc:\\Users\\Anirban\\AppData\\Local\\Programs\\Python\\Python312\\Lib\\site-packages\\docx\\opc\\pkgreader.py:22\u001b[0m, in \u001b[0;36mPackageReader.from_file\u001b[1;34m(pkg_file)\u001b[0m\n\u001b[0;32m     19\u001b[0m \u001b[39m@staticmethod\u001b[39m\n\u001b[0;32m     20\u001b[0m \u001b[39mdef\u001b[39;00m \u001b[39mfrom_file\u001b[39m(pkg_file):\n\u001b[0;32m     21\u001b[0m \u001b[39m    \u001b[39m\u001b[39m\"\"\"Return a |PackageReader| instance loaded with contents of `pkg_file`.\"\"\"\u001b[39;00m\n\u001b[1;32m---> 22\u001b[0m     phys_reader \u001b[39m=\u001b[39m PhysPkgReader(pkg_file)\n\u001b[0;32m     23\u001b[0m     content_types \u001b[39m=\u001b[39m _ContentTypeMap\u001b[39m.\u001b[39mfrom_xml(phys_reader\u001b[39m.\u001b[39mcontent_types_xml)\n\u001b[0;32m     24\u001b[0m     pkg_srels \u001b[39m=\u001b[39m PackageReader\u001b[39m.\u001b[39m_srels_for(phys_reader, PACKAGE_URI)\n",
      "File \u001b[1;32mc:\\Users\\Anirban\\AppData\\Local\\Programs\\Python\\Python312\\Lib\\site-packages\\docx\\opc\\phys_pkg.py:21\u001b[0m, in \u001b[0;36mPhysPkgReader.__new__\u001b[1;34m(cls, pkg_file)\u001b[0m\n\u001b[0;32m     19\u001b[0m         reader_cls \u001b[39m=\u001b[39m _ZipPkgReader\n\u001b[0;32m     20\u001b[0m     \u001b[39melse\u001b[39;00m:\n\u001b[1;32m---> 21\u001b[0m         \u001b[39mraise\u001b[39;00m PackageNotFoundError(\u001b[39m\"\u001b[39m\u001b[39mPackage not found at \u001b[39m\u001b[39m'\u001b[39m\u001b[39m%s\u001b[39;00m\u001b[39m'\u001b[39m\u001b[39m\"\u001b[39m \u001b[39m%\u001b[39m pkg_file)\n\u001b[0;32m     22\u001b[0m \u001b[39melse\u001b[39;00m:  \u001b[39m# assume it's a stream and pass it to Zip reader to sort out\u001b[39;00m\n\u001b[0;32m     23\u001b[0m     reader_cls \u001b[39m=\u001b[39m _ZipPkgReader\n",
      "\u001b[1;31mPackageNotFoundError\u001b[0m: Package not found at 'Mendo transcription.docx'"
     ]
    }
   ],
   "source": [
    "doc_files = [\n",
    "    \"Mendo transcription.docx\"\n",
    "]\n",
    "save_transcripts(doc_files, \"output_transcripts\")"
   ]
  },
  {
   "cell_type": "code",
   "execution_count": null,
   "metadata": {},
   "outputs": [],
   "source": []
  }
 ],
 "metadata": {
  "kernelspec": {
   "display_name": "Python 3",
   "language": "python",
   "name": "python3"
  },
  "language_info": {
   "codemirror_mode": {
    "name": "ipython",
    "version": 3
   },
   "file_extension": ".py",
   "mimetype": "text/x-python",
   "name": "python",
   "nbconvert_exporter": "python",
   "pygments_lexer": "ipython3",
   "version": "3.12.8"
  }
 },
 "nbformat": 4,
 "nbformat_minor": 2
}
