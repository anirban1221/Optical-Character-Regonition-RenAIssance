{
 "cells": [
  {
   "cell_type": "code",
   "execution_count": 5,
   "metadata": {},
   "outputs": [],
   "source": [
    "from docx import Document\n",
    "import os\n",
    "import re"
   ]
  },
  {
   "cell_type": "markdown",
   "metadata": {},
   "source": [
    "observed how the pages are separated in the given docx files and separated the pages manner, saving them according to their respective pdf file names pagewise\n"
   ]
  },
  {
   "cell_type": "code",
   "execution_count": 17,
   "metadata": {},
   "outputs": [],
   "source": [
    "import os\n",
    "import docx\n",
    "\n",
    "def extract_text_by_page(doc_path):\n",
    "    doc = docx.Document(doc_path)\n",
    "    text_pages = {\"page1\": [], \"page2\": [], \"page3\": [],\"page4\":[],\"page5\":[]}\n",
    "    current_page = None\n",
    "    \n",
    "    for para in doc.paragraphs:\n",
    "        text = para.text.strip()\n",
    "        \n",
    "        if \"PDF p1\" in text:\n",
    "            current_page = \"page1\"\n",
    "        elif \"PDF p2\" in text:\n",
    "            current_page = \"page2\"\n",
    "        elif \"PDF p3\" in text:\n",
    "            current_page = \"page3\"\n",
    "        elif \"PDF p4\" in text:\n",
    "            current_page = \"page4\" \n",
    "        elif \"PDF p5\" in text:\n",
    "            current_page = \"page5\"        \n",
    "        if current_page and text and \"PDF p.\" not in text:\n",
    "            text_pages[current_page].append(text)\n",
    "    \n",
    "    return {k: \"\\n\".join(v) for k, v in text_pages.items()}\n",
    "\n",
    "def save_transcripts(doc_paths, output_dir):\n",
    "    if not os.path.exists(output_dir):\n",
    "        os.makedirs(output_dir)\n",
    "    \n",
    "    for doc_path in doc_paths:\n",
    "        doc_name = os.path.splitext(os.path.basename(doc_path))[0].replace(\" transcription\", \"\")\n",
    "        transcript_dir = os.path.join(output_dir, f\"transcript_{doc_name}\")\n",
    "        os.makedirs(transcript_dir, exist_ok=True)\n",
    "        \n",
    "        text_pages = extract_text_by_page(doc_path)\n",
    "        for page, text in text_pages.items():\n",
    "            with open(os.path.join(transcript_dir, f\"{page}.txt\"), \"w\", encoding=\"utf-8\") as f:\n",
    "                f.write(text)\n",
    "    \n",
    "    print(\"Transcripts saved successfully.\")\n",
    "\n",
    "\n",
    "            \n",
    "\n",
    "    \n",
    "\n",
    "\n",
    "    "
   ]
  },
  {
   "cell_type": "code",
   "execution_count": 23,
   "metadata": {},
   "outputs": [
    {
     "name": "stdout",
     "output_type": "stream",
     "text": [
      "Transcripts saved successfully.\n"
     ]
    }
   ],
   "source": [
    "doc_files = [\n",
    "    \n",
    "    \"Ezcaray transcription.docx\",\n",
    "    \"Mendo transcription.docx\",\n",
    "    \"Constituciones sinodales transcription.docx\",\n",
    "    \"Buendia transcription.docx\"\n",
    "]\n",
    "save_transcripts(doc_files, \"output_transcripts\")"
   ]
  },
  {
   "cell_type": "code",
   "execution_count": 17,
   "metadata": {},
   "outputs": [],
   "source": [
    "def extract_text_by_page(doc_path):\n",
    "    doc = docx.Document(doc_path)\n",
    "    text_pages = {\"page1\": [], \"page2\": [], \"page3\": []}\n",
    "    current_page = None\n",
    "    \n",
    "    for para in doc.paragraphs:\n",
    "        text = para.text.strip()\n",
    "        \n",
    "        if \"PDF p. 1\" in text:\n",
    "            current_page = \"page1\"\n",
    "        elif \"PDF p. 2\" in text:\n",
    "            current_page = \"page2\"\n",
    "        elif \"PDF p. 3\" in text:\n",
    "            current_page = \"page3\"\n",
    "        \n",
    "        if current_page and text and \"PDF p.\" not in text:\n",
    "            text_pages[current_page].append(text)\n",
    "    \n",
    "    return {k: \"\\n\".join(v) for k, v in text_pages.items()}\n",
    "\n",
    "def save_transcripts(doc_paths, output_dir):\n",
    "    if not os.path.exists(output_dir):\n",
    "        os.makedirs(output_dir)\n",
    "    \n",
    "    for doc_path in doc_paths:\n",
    "        doc_name = os.path.splitext(os.path.basename(doc_path))[0].replace(\" transcription\", \"\")\n",
    "        transcript_dir = os.path.join(output_dir, f\"transcript_{doc_name}\")\n",
    "        os.makedirs(transcript_dir, exist_ok=True)\n",
    "        \n",
    "        text_pages = extract_text_by_page(doc_path)\n",
    "        for page, text in text_pages.items():\n",
    "            with open(os.path.join(transcript_dir, f\"{page}.txt\"), \"w\", encoding=\"utf-8\") as f:\n",
    "                f.write(text)\n",
    "    \n",
    "    print(\"Transcripts saved successfully.\")"
   ]
  },
  {
   "cell_type": "code",
   "execution_count": 18,
   "metadata": {},
   "outputs": [
    {
     "name": "stdout",
     "output_type": "stream",
     "text": [
      "Transcripts saved successfully.\n"
     ]
    }
   ],
   "source": [
    "doc_files = [\n",
    "    \"Paredes transcription.docx\"\n",
    "]\n",
    "save_transcripts(doc_files, \"output_transcripts\")"
   ]
  },
  {
   "cell_type": "code",
   "execution_count": null,
   "metadata": {},
   "outputs": [],
   "source": []
  }
 ],
 "metadata": {
  "kernelspec": {
   "display_name": "Python 3",
   "language": "python",
   "name": "python3"
  },
  "language_info": {
   "codemirror_mode": {
    "name": "ipython",
    "version": 3
   },
   "file_extension": ".py",
   "mimetype": "text/x-python",
   "name": "python",
   "nbconvert_exporter": "python",
   "pygments_lexer": "ipython3",
   "version": "3.12.8"
  }
 },
 "nbformat": 4,
 "nbformat_minor": 2
}
