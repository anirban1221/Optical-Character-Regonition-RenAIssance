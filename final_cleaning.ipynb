{
 "cells": [
  {
   "cell_type": "code",
   "execution_count": 1,
   "metadata": {},
   "outputs": [
    {
     "name": "stderr",
     "output_type": "stream",
     "text": [
      "<>:2: SyntaxWarning: invalid escape sequence '\\B'\n",
      "<>:2: SyntaxWarning: invalid escape sequence '\\B'\n",
      "C:\\Users\\Anirban\\AppData\\Local\\Temp\\ipykernel_12680\\357142130.py:2: SyntaxWarning: invalid escape sequence '\\B'\n",
      "  image_file='training_file\\Buendia-page_1.jpg'\n"
     ]
    }
   ],
   "source": [
    "import cv2\n",
    "image_file='training_file\\Buendia-page_1.jpg'\n",
    "img=cv2.imread(image_file)"
   ]
  },
  {
   "cell_type": "code",
   "execution_count": 4,
   "metadata": {},
   "outputs": [
    {
     "name": "stdout",
     "output_type": "stream",
     "text": [
      "«Exif. Instruccién de christiana y politica cortesania con Dios y con:los hombres —'Fausto Agustin de Buendia- eee\n",
      "| =7TQ@7\n",
      "\n",
      "GINS) Jas ESUS . 5 , que no folo os Exlfad S38\n",
      "IG\\ sl] dignafteis de lamaros 38.\n",
      "ZAIN || odor de los Nifos, Ht Lub. 24\n",
      "| fino tambien de asi 460\n",
      "tir como Nifio entre los Dogores,\n",
      "fe confagra humilde efta pequefia !\n",
      ". Inftruccion de los Nifios. Es afsi,\n",
      "| 5 | que ella tam bien fe dirigé 2 laj ju\n",
      ") : | yentud ; 3 pero deta, como recuer-\n",
      "do delo que aprendio, 4 los Ni-\n",
      "fos , como precifa explicacion de\n",
      "lo que deben eftudiar. Por eité foe,\n",
      "logiculo:es muy vueftra ; »y por\n",
      "fer para Nifios, que confiais a Ja\n",
      "educacion de vueltra Compaiia,\n",
      "lo es mucho mas. En Vos, ( Divi\n",
      "a rio Exemplar - de todas las virtus\n",
      ". des ) gienén abreviado el mas fe:\n",
      "\n",
      "2 . a | ” Gp 2 | @ ro\n",
      "\n",
      "Eo\n",
      "\n",
      "= ry\n",
      "\n",
      "“About this book [TREES] = FADDTOMYBCO!\n",
      "\n"
     ]
    }
   ],
   "source": [
    "import pytesseract\n",
    "ocr_result=pytesseract.image_to_string(image_file)\n",
    "print(ocr_result)"
   ]
  },
  {
   "cell_type": "code",
   "execution_count": 43,
   "metadata": {},
   "outputs": [
    {
     "name": "stderr",
     "output_type": "stream",
     "text": [
      "<>:3: SyntaxWarning: invalid escape sequence '\\p'\n",
      "<>:3: SyntaxWarning: invalid escape sequence '\\p'\n",
      "C:\\Users\\Anirban\\AppData\\Local\\Temp\\ipykernel_12680\\1772497354.py:3: SyntaxWarning: invalid escape sequence '\\p'\n",
      "  image_file='output_images\\page_1.jpg'\n"
     ]
    },
    {
     "data": {
      "text/plain": [
       "True"
      ]
     },
     "execution_count": 43,
     "metadata": {},
     "output_type": "execute_result"
    }
   ],
   "source": [
    "def grayscale(image):\n",
    "    return cv2.cvtColor(image,cv2.COLOR_BGR2GRAY)\n",
    "image_file='output_images\\page_1.jpg'\n",
    "img=cv2.imread(image_file)\n",
    "gray_image=grayscale(img)\n",
    "cv2.imwrite('cleaned_images/grey.jpg',gray_image)\n",
    "thresh,im_bw=cv2.threshold(gray_image,90,280,cv2.THRESH_BINARY)\n",
    "cv2.imwrite('cleaned_images/bw_image.jpg',im_bw)\n",
    "def noise_removal(image):\n",
    "    import numpy as np \n",
    "    kernel=np.ones((1,1),np.uint8)\n",
    "    image=cv2.dilate(image,kernel,iterations=2)\n",
    "    kernel=np.ones((1,1),np.uint8)\n",
    "    image=cv2.erode(image,kernel,iterations=2)\n",
    "    image=cv2.morphologyEx(image,cv2.MORPH_CLOSE,kernel)\n",
    "    image=cv2.medianBlur(image,3)\n",
    "    return(image)\n",
    "no_noise=noise_removal(im_bw)\n",
    "cv2.imwrite('cleaned_images/no_noise.jpg',no_noise)\n",
    "# def thin_font(image):\n",
    "#     import numpy as np \n",
    "#     image=cv2.bitwise_not(image)\n",
    "#     kernel=np.ones((2,2),np.uint8)\n",
    "#     image=cv2.erode(image,kernel,iterations=1)\n",
    "#     image=cv2.bitwise_not(image)\n",
    "#     return(image)\n",
    "# eroded_image=thin_font(no_noise)\n",
    "# cv2.imwrite('cleaned_images/eroded_image.jpg',eroded_image)\n"
   ]
  },
  {
   "cell_type": "code",
   "execution_count": 44,
   "metadata": {},
   "outputs": [],
   "source": [
    "def remove_borders(image):\n",
    "    contours, heiarchy = cv2.findContours(image, cv2.RETR_EXTERNAL, cv2.CHAIN_APPROX_SIMPLE)\n",
    "    cntsSorted = sorted(contours, key=lambda x:cv2.contourArea(x))\n",
    "    cnt = cntsSorted[-1]\n",
    "    x, y, w, h = cv2.boundingRect(cnt)\n",
    "    crop = image[y:y+h, x:x+w]\n",
    "    return (crop)"
   ]
  },
  {
   "cell_type": "code",
   "execution_count": 45,
   "metadata": {},
   "outputs": [
    {
     "data": {
      "text/plain": [
       "True"
      ]
     },
     "execution_count": 45,
     "metadata": {},
     "output_type": "execute_result"
    }
   ],
   "source": [
    "no_borders=remove_borders(no_noise)\n",
    "cv2.imwrite('cleaned_images/no_borders.jpg',no_borders)\n"
   ]
  },
  {
   "cell_type": "code",
   "execution_count": 51,
   "metadata": {},
   "outputs": [
    {
     "data": {
      "text/plain": [
       "True"
      ]
     },
     "execution_count": 51,
     "metadata": {},
     "output_type": "execute_result"
    }
   ],
   "source": [
    "color=[255,255,255]\n",
    "top,bottom,left,right=[150]*4\n",
    "image_with_border = cv2.copyMakeBorder(no_borders, top, bottom, left, right, cv2.BORDER_CONSTANT, value=color)\n",
    "cv2.imwrite(\"training_file/Constituciones-page_1.jpg\", image_with_border)\n",
    "\n"
   ]
  },
  {
   "cell_type": "code",
   "execution_count": 48,
   "metadata": {},
   "outputs": [
    {
     "name": "stdout",
     "output_type": "stream",
     "text": [
      "eres ON PHELIPPE POR!TEA\n",
      "Coy eT a Ae ;\n",
      "em ew Graciade Dios, Rey de Calf fila, de\n",
      "‘ A Ye Lcon,, de Aregcn, delas dos Sici-\n",
      "* lias, de Hivrutalem, de Portugal, de\n",
      "\\ yar by Nauaita, ce Granada, de Toledo,\n",
      "ey Jag dé Valencie, dt Galizia;de Mallorca,\n",
      "| a de Seyilla, de Cerdcfta, de Cordoua,\n",
      "Ge Corcega, dc’ Mureia, delaen, de\n",
      "los Algardes,-de Algecicx j'de Gibrattar , de lag Islas de\n",
      "Canacia , de lasIndias Oricatales, y Occidentales ; Islas\n",
      "y ticrra'firine de? ntae Océhno ; Archidudue de Auftrid, ~\n",
      "Duque de Borgona, de Brivarite; y Milan; Condede Abf\n",
      "urg, de Flandes, yde Tirol , fenor de Vizcaya, y de Mo-\n",
      "faa \"2° PU quatte bor parteWévos, thh-eueeendo in\n",
      "Cheifto Padtel don Pedro Manto , Obiipode Calaheorra,\n",
      "y laCalcada,del nueftro Cenfe jo: nos fue hecha relacién\n",
      "que envn Synodo que fe hauia hechoen '€rfad de | o-\n",
      "grons, de elf Obitisadd, fe havianthecho alganas Confli-\n",
      "tucionts: § (nodes {Yrefo: mad as baéarriguas, phos foc\n",
      "pedido, y fuplicado os mandalemos darlicecia para qne\n",
      "fe imprimieffen las dichas Corfticuci nes, y lo pudiefle\n",
      "hazer qualquier impreflor ce cltosnueftros Reynos que\n",
      "wos meapbealedes 6como ha nueftra merced fuefle. Lo\n",
      "gual vilto porfos delnuettro Confcjo, y lo pedidocerca\n",
      "decllopor el Licenciado Gi] Ramirez de Arellana nue-\n",
      "ftro Fileal, ylaconeradiz‘on fecha, por parce de [a Pro-\n",
      "uincia y hermandades de Alaua, fue acordado que deuia-\n",
      "mosmandar dar cftanueftta carta en Jadicha razon, y\n",
      "nostuuimoslo por bien. Por laqualvos damos licencia\n",
      "y facultad para que qualquier impreffor de eflcs nueflros\n",
      "Reynos , que vos nombraredes, pueda imprimir las di-\n",
      "chas ConttirucionesSynodales, cen que defpues de im-\n",
      "preflas no fe pueda vfardeellas antes que fe trayganan-\n",
      "tenos, y fe corrijancon ef ariginal que varubticadoy fir\n",
      "mado al fin deellas de Chriftonal Nonezde Leon, nueftro\n",
      "efcriuanode Camara. de losque refidenenelnucitro Co\n",
      "fejo, y fe taffe el precio aque fe huaiere de vender cada\n",
      "pliegodeellas, fo penade caeré incurrit en las penas,con\n",
      ") ro ae tenidas\n",
      "\n",
      "\n"
     ]
    }
   ],
   "source": [
    "ocr_result=pytesseract.image_to_string('cleaned_images/image_with_border.jpg')\n",
    "print(ocr_result)"
   ]
  },
  {
   "cell_type": "code",
   "execution_count": 60,
   "metadata": {},
   "outputs": [
    {
     "name": "stderr",
     "output_type": "stream",
     "text": [
      "<>:3: SyntaxWarning: invalid escape sequence '\\p'\n",
      "<>:3: SyntaxWarning: invalid escape sequence '\\p'\n",
      "C:\\Users\\Anirban\\AppData\\Local\\Temp\\ipykernel_12680\\579438395.py:3: SyntaxWarning: invalid escape sequence '\\p'\n",
      "  image_file='output_images\\page_2.jpg'\n"
     ]
    },
    {
     "data": {
      "text/plain": [
       "True"
      ]
     },
     "execution_count": 60,
     "metadata": {},
     "output_type": "execute_result"
    }
   ],
   "source": [
    "def grayscale(image):\n",
    "    return cv2.cvtColor(image,cv2.COLOR_BGR2GRAY)\n",
    "image_file='output_images\\page_2.jpg'\n",
    "img=cv2.imread(image_file)\n",
    "gray_image=grayscale(img)\n",
    "cv2.imwrite('cleaned_images/grey.jpg',gray_image)\n",
    "thresh,im_bw=cv2.threshold(gray_image,70,300,cv2.THRESH_BINARY)\n",
    "cv2.imwrite('cleaned_images/bw_image.jpg',im_bw)\n",
    "def noise_removal(image):\n",
    "    import numpy as np \n",
    "    kernel=np.ones((1,1),np.uint8)\n",
    "    image=cv2.dilate(image,kernel,iterations=5)\n",
    "    kernel=np.ones((1,1),np.uint8)\n",
    "    image=cv2.erode(image,kernel,iterations=5)\n",
    "    image=cv2.morphologyEx(image,cv2.MORPH_CLOSE,kernel)\n",
    "    image=cv2.medianBlur(image,3)\n",
    "    return(image)\n",
    "no_noise=noise_removal(im_bw)\n",
    "cv2.imwrite('cleaned_images/no_noise.jpg',no_noise)\n",
    "def thin_font(image):\n",
    "    import numpy as np \n",
    "    image=cv2.bitwise_not(image)\n",
    "    kernel=np.ones((2,2),np.uint8)\n",
    "    image=cv2.erode(image,kernel,iterations=3)\n",
    "    image=cv2.bitwise_not(image)\n",
    "    return(image)\n",
    "eroded_image=thin_font(no_noise)\n",
    "cv2.imwrite('cleaned_images/eroded_image.jpg',eroded_image)"
   ]
  },
  {
   "cell_type": "code",
   "execution_count": 64,
   "metadata": {},
   "outputs": [
    {
     "data": {
      "text/plain": [
       "True"
      ]
     },
     "execution_count": 64,
     "metadata": {},
     "output_type": "execute_result"
    }
   ],
   "source": [
    "def remove_borders(image):\n",
    "    contours, heiarchy = cv2.findContours(image, cv2.RETR_EXTERNAL, cv2.CHAIN_APPROX_SIMPLE)\n",
    "    cntsSorted = sorted(contours, key=lambda x:cv2.contourArea(x))\n",
    "    cnt = cntsSorted[-1]\n",
    "    x, y, w, h = cv2.boundingRect(cnt)\n",
    "    crop = image[y:y+h, x:x+w]\n",
    "    return (crop)\n",
    "\n",
    "no_borders=remove_borders(no_noise)\n",
    "cv2.imwrite('cleaned_images/no_borders.jpg',no_borders)\n",
    "\n",
    "color=[255,255,255]\n",
    "top,bottom,left,right=[150]*4\n",
    "image_with_border = cv2.copyMakeBorder(no_borders, top, bottom, left, right, cv2.BORDER_CONSTANT, value=color)\n",
    "cv2.imwrite(\"training_file/Constituciones-page_2.jpg\", image_with_border)"
   ]
  },
  {
   "cell_type": "code",
   "execution_count": 62,
   "metadata": {},
   "outputs": [
    {
     "name": "stdout",
     "output_type": "stream",
     "text": [
      "eenidas eo la pragmationy leyesde nueftro\n",
      "difportentobre la imprefsion de los libros\n",
      "de al. De Jo qual mandamosdar, y dimos efta nuetira cap.\n",
      "ta,(ellada con nneftrofello , ylibrada por losdel nuefia\n",
      "Confejo. Dadaenla ciudad de Valladolid,a fierce dias del\n",
      "mes de Septiembre,demily (cy{cientosyvnafos,\n",
      "\n",
      "oy nofzgades cn\n",
      "\n",
      "ElCondede El Licéciadodon E1 Licéciado dé Die.\n",
      "Miranda: _Tuande Acufia. — go Lopezde Ayala.\n",
      "\n",
      "ElLicenciadodon — El Licenciadodon Francifco |\n",
      "Tuan de Ocon. deContreras, . 5.7.0 |\n",
      "' YoChriftonal Nunez de Leon; efcrigano. de Carhara\n",
      "del Rey nueftro fefor, la fize efcriuit por lu mandado,con\n",
      "acuerdo de los del fu Confejo.\n",
      "\n",
      "Regiftrada Iorgede Chaneijller, lorge dé\n",
      "Olaalde Vergara. | Olaalde Vergara.\n",
      "¢ a\n",
      "f ” —_ fs ’ /, . -\n",
      ", wy -+ ~ GONVO\n",
      "\n"
     ]
    }
   ],
   "source": [
    "ocr_result=pytesseract.image_to_string('training_file/Constituciones-page_2.jpg')\n",
    "print(ocr_result)"
   ]
  },
  {
   "cell_type": "code",
   "execution_count": 89,
   "metadata": {},
   "outputs": [
    {
     "name": "stderr",
     "output_type": "stream",
     "text": [
      "<>:3: SyntaxWarning: invalid escape sequence '\\p'\n",
      "<>:3: SyntaxWarning: invalid escape sequence '\\p'\n",
      "C:\\Users\\Anirban\\AppData\\Local\\Temp\\ipykernel_12680\\3791169894.py:3: SyntaxWarning: invalid escape sequence '\\p'\n",
      "  image_file='output_images\\page_3.jpg'\n"
     ]
    },
    {
     "data": {
      "text/plain": [
       "True"
      ]
     },
     "execution_count": 89,
     "metadata": {},
     "output_type": "execute_result"
    }
   ],
   "source": [
    "def grayscale(image):\n",
    "    return cv2.cvtColor(image,cv2.COLOR_BGR2GRAY)\n",
    "image_file='output_images\\page_3.jpg'\n",
    "img=cv2.imread(image_file)\n",
    "gray_image=grayscale(img)\n",
    "cv2.imwrite('cleaned_images/grey.jpg',gray_image)\n",
    "thresh,im_bw=cv2.threshold(gray_image,80,300,cv2.THRESH_BINARY)\n",
    "cv2.imwrite('cleaned_images/bw_image.jpg',im_bw)\n",
    "def noise_removal(image):\n",
    "    import numpy as np \n",
    "    kernel=np.ones((1,1),np.uint8)\n",
    "    image=cv2.dilate(image,kernel,iterations=5)\n",
    "    kernel=np.ones((1,1),np.uint8)\n",
    "    image=cv2.erode(image,kernel,iterations=5)\n",
    "    image=cv2.morphologyEx(image,cv2.MORPH_CLOSE,kernel)\n",
    "    image=cv2.medianBlur(image,3)\n",
    "    return(image)\n",
    "no_noise=noise_removal(im_bw)\n",
    "cv2.imwrite('cleaned_images/no_noise.jpg',no_noise)\n",
    "def thin_font(image):\n",
    "    import numpy as np \n",
    "    image=cv2.bitwise_not(image)\n",
    "    kernel=np.ones((2,2),np.uint8)\n",
    "    image=cv2.erode(image,kernel,iterations=1)\n",
    "    image=cv2.bitwise_not(image)\n",
    "    return(image)\n",
    "eroded_image=thin_font(no_noise)\n",
    "cv2.imwrite('cleaned_images/eroded_image.jpg',eroded_image)"
   ]
  },
  {
   "cell_type": "code",
   "execution_count": 91,
   "metadata": {},
   "outputs": [
    {
     "data": {
      "text/plain": [
       "True"
      ]
     },
     "execution_count": 91,
     "metadata": {},
     "output_type": "execute_result"
    }
   ],
   "source": [
    "def remove_borders(image):\n",
    "    contours, heiarchy = cv2.findContours(image, cv2.RETR_EXTERNAL, cv2.CHAIN_APPROX_SIMPLE)\n",
    "    cntsSorted = sorted(contours, key=lambda x:cv2.contourArea(x))\n",
    "    cnt = cntsSorted[-1]\n",
    "    x, y, w, h = cv2.boundingRect(cnt)\n",
    "    crop = image[y:y+h, x:x+w]\n",
    "    return (crop)\n",
    "\n",
    "no_borders=remove_borders(no_noise)\n",
    "cv2.imwrite('cleaned_images/no_borders.jpg',no_borders)\n",
    "\n",
    "color=[255,255,255]\n",
    "top,bottom,left,right=[150]*4\n",
    "image_with_border = cv2.copyMakeBorder(no_borders, top, bottom, left, right, cv2.BORDER_CONSTANT, value=color)\n",
    "cv2.imwrite(\"training_file/Constituciones-page_3.jpg\", image_with_border)"
   ]
  },
  {
   "cell_type": "code",
   "execution_count": 92,
   "metadata": {},
   "outputs": [
    {
     "name": "stdout",
     "output_type": "stream",
     "text": [
      "CONVOGATORIA:\n",
      "mq ON Pedro Malopor la gracigde Diag,\n",
      "gee y delaf(ancta.Ygleliade Kyoma, CHifpo.\n",
      "a de Calahorra,y la Calcada,del Conlejo,\n",
      "B defu Mageftad, &c. Al Dean y-Cauil-,\n",
      "ij dosdelasqueftras fanctas yglefias Can\n",
      "a” Ae thedralesde Calahorra,y la CaJcada, y:\n",
      "po , ia ek Cauildos de las yolefias Collegiales, Ar,\n",
      "ney Cipreltes, Vicatias, Vninetfidades,ygle~\n",
      "fias vnidas,Cangildos de partochiales,Curas, Beneficiades, y;\n",
      "ClerigossM ayordomos, Acmjniftradoresde Cofradias, Hee,\n",
      "mandadesdesanfrades,y vezindadgs,¢ a los Concejos,Sciio,\n",
      "tios, juntas de Prouincias,jafticias, quanto alo efpirigual, y\n",
      "otras quale(quierpedionaskcclefiatticas, 6 feglares:-y atoe\n",
      "dastas yglefiasshof picalcs coatradias ylugares pius,detodas, -\n",
      "las ciudadcs, villas, y luggsesdefte nueftto Obilpadosy aro-,\n",
      "dos los demas que dederecho ycoftumbre , den orra,quale,\n",
      "guiet manera foysobligadgs. y os conutene veniral Synodo\n",
      "Dicceflano: y Gos fucre notificado ejtc nucktrp mandamien,\n",
      "co en vueltras pesfonas,o en vys itres yg le fias,6 comode!] pan\n",
      "ce (upieredes,de manera que no podays pretender ignoran-\n",
      "cia. Salud y bendicion en nuestro Sedor Lela Chrifto : fled,\n",
      "gue por eftarmandads por elfancto Conciliode Tréto que\n",
      "los Prelades encada va ano hagan Synodo Dieceffano, pa-\n",
      "ra eftacuys lo que fedifpone en fusdecretos, y facros Cano-\n",
      "nes,hazer julticia,deshazer agrauirs,reformar coftibres ha.\n",
      "ger Conftituciones, para que csiculto Diuino vayaen augmeé\n",
      "to,ylas hazi¢das.delas Fabricas y obras piasfe conferuen,.cd\n",
      "el favor Diuino hauemos acardado celebrar Synadoen Ila\n",
      "ygiefia Collegial de Sancta Maria la Redondadela ciudadde\n",
      "Logroiio,y le comengaraadoze dias del mes de Noviembre\n",
      "defteprefente aio de leyicientos, en raz6 delodicho y deicar\n",
      "gode nueftracon{ciencia. Porende por Jas predentes y lu te-\n",
      "nor oscitamos , norifivamos y llamamos, y (di neceflario ea)\n",
      "mandamos en vircud de fancta abediencia, y lo pena de exco\n",
      "munion,trina, canonica Monitiene premilia, y cadacien du-\n",
      "cados,2plicados para obras pias anuchtra dilpoficion;que v é,-\n",
      "gaysaoshallar yc ftarprefencteg al dicho Synodo( y losCle-\n",
      "tigos con habitos decentes, en beitidos, cabellos, y barba, y\n",
      ": an 4; fobre-\n",
      "\n",
      "\n"
     ]
    }
   ],
   "source": [
    "ocr_result=pytesseract.image_to_string('training_file/Constituciones-page_3.jpg')\n",
    "print(ocr_result)"
   ]
  },
  {
   "cell_type": "code",
   "execution_count": 113,
   "metadata": {},
   "outputs": [
    {
     "data": {
      "text/plain": [
       "True"
      ]
     },
     "execution_count": 113,
     "metadata": {},
     "output_type": "execute_result"
    }
   ],
   "source": [
    "# import pytesseract\n",
    "# import cv2\n",
    "\n",
    "\n",
    "# image = cv2.imread('training_file/Buendia-page_1.jpg')\n",
    "# im_h, im_w, im_d = image.shape\n",
    "# base_image = image.copy()\n",
    "\n",
    "# gray = cv2.cvtColor(image, cv2.COLOR_BGR2GRAY)\n",
    "# blur = cv2.GaussianBlur(gray, (7,7), 0)\n",
    "# thresh = cv2.threshold(blur, 0, 255, cv2.THRESH_BINARY_INV + cv2.THRESH_OTSU)[1]\n",
    "\n",
    "# # Create rectangular structuring element and dilate\n",
    "# kernel = cv2.getStructuringElement(cv2.MORPH_RECT, (50,10))\n",
    "# dilate = cv2.dilate(thresh, kernel, iterations=1)\n",
    "\n",
    "# # Find contours and draw rectangle\n",
    "# cnts = cv2.findContours(dilate, cv2.RETR_EXTERNAL, cv2.CHAIN_APPROX_SIMPLE)\n",
    "# cnts = cnts[0] if len(cnts) == 2 else cnts[1]\n",
    "# cnts = sorted(cnts, key=lambda x: cv2.boundingRect(x)[1])\n",
    "# for c in cnts:\n",
    "#     x,y,w,h = cv2.boundingRect(c)\n",
    "#     if h < 20 and w > 250:\n",
    "#         roi= base_image[0:y+h, 0:x+im_w]\n",
    "#         cv2.rectangle(image, (x, y), (x + w, y + h), (36,255,12), 2)\n",
    "\n",
    "\n",
    "# cv2.imwrite(\"cleaned_images/without_footnote.jpg\",base_image[0:y+h, 0:x+im_w])\n",
    "\n",
    "    \n"
   ]
  },
  {
   "cell_type": "code",
   "execution_count": 112,
   "metadata": {},
   "outputs": [
    {
     "data": {
      "text/plain": [
       "True"
      ]
     },
     "execution_count": 112,
     "metadata": {},
     "output_type": "execute_result"
    }
   ],
   "source": [
    "# image = cv2.imread('training_file/Buendia-page_1.jpg')\n",
    "# base_image = image.copy()\n",
    "\n",
    "# gray = cv2.cvtColor(image, cv2.COLOR_BGR2GRAY)\n",
    "# blur = cv2.GaussianBlur(gray, (7,7), 0)\n",
    "# thresh = cv2.threshold(blur, 0, 255, cv2.THRESH_BINARY_INV + cv2.THRESH_OTSU)[1]\n",
    "\n",
    "# # Create rectangular structuring element and dilate\n",
    "# kernel = cv2.getStructuringElement(cv2.MORPH_RECT, (3,25))\n",
    "# dilate = cv2.dilate(thresh, kernel, iterations=1)\n",
    "\n",
    "# # Find contours and draw rectangle\n",
    "# cnts = cv2.findContours(dilate, cv2.RETR_EXTERNAL, cv2.CHAIN_APPROX_SIMPLE)\n",
    "# cnts = cnts[0] if len(cnts) == 2 else cnts[1]\n",
    "# cnts = sorted(cnts, key=lambda x: cv2.boundingRect(x)[1])\n",
    "# main_text = \"\"\n",
    "# for c in cnts:\n",
    "#     x,y,w,h = cv2.boundingRect(c)\n",
    "#     if h < 20 and w > 250:\n",
    "#         roi = base_image[y:y+h, 0:x]\n",
    "#         cv2.rectangle(image, (0, y), (x, 0 + h+20), (36,255,12), 2)\n",
    "\n",
    "# cv2.imwrite(\"cleaned_images/without_marginalia.jpg\",base_image[0:y+h, 0:x+im_w])\n",
    "        "
   ]
  },
  {
   "cell_type": "code",
   "execution_count": 131,
   "metadata": {},
   "outputs": [
    {
     "name": "stderr",
     "output_type": "stream",
     "text": [
      "<>:3: SyntaxWarning: invalid escape sequence '\\p'\n",
      "<>:3: SyntaxWarning: invalid escape sequence '\\p'\n",
      "C:\\Users\\Anirban\\AppData\\Local\\Temp\\ipykernel_12680\\1779678875.py:3: SyntaxWarning: invalid escape sequence '\\p'\n",
      "  image_file='output_images-Buendia - Instruccion\\page_1.jpg'\n"
     ]
    },
    {
     "data": {
      "text/plain": [
       "True"
      ]
     },
     "execution_count": 131,
     "metadata": {},
     "output_type": "execute_result"
    }
   ],
   "source": [
    "def grayscale(image):\n",
    "    return cv2.cvtColor(image,cv2.COLOR_BGR2GRAY)\n",
    "image_file='output_images-Buendia - Instruccion\\page_1.jpg'\n",
    "img=cv2.imread(image_file)\n",
    "gray_image=grayscale(img)\n",
    "cv2.imwrite('cleaned_images/grey.jpg',gray_image)\n",
    "thresh,im_bw=cv2.threshold(gray_image,80,300,cv2.THRESH_BINARY)\n",
    "cv2.imwrite('cleaned_images/bw_image.jpg',im_bw)\n",
    "def noise_removal(image):\n",
    "    import numpy as np \n",
    "    kernel=np.ones((1,1),np.uint8)\n",
    "    image=cv2.dilate(image,kernel,iterations=5)\n",
    "    kernel=np.ones((1,1),np.uint8)\n",
    "    image=cv2.erode(image,kernel,iterations=5)\n",
    "    image=cv2.morphologyEx(image,cv2.MORPH_CLOSE,kernel)\n",
    "    image=cv2.medianBlur(image,3)\n",
    "    return(image)\n",
    "no_noise=noise_removal(im_bw)\n",
    "cv2.imwrite('cleaned_images/no_noise.jpg',no_noise)\n",
    "def thin_font(image):\n",
    "    import numpy as np \n",
    "    image=cv2.bitwise_not(image)\n",
    "    kernel=np.ones((2,2),np.uint8)\n",
    "    image=cv2.erode(image,kernel,iterations=1)\n",
    "    image=cv2.bitwise_not(image)\n",
    "    return(image)\n",
    "eroded_image=thin_font(no_noise)\n",
    "cv2.imwrite('cleaned_images/eroded_image.jpg',eroded_image)"
   ]
  },
  {
   "cell_type": "code",
   "execution_count": 132,
   "metadata": {},
   "outputs": [
    {
     "data": {
      "text/plain": [
       "True"
      ]
     },
     "execution_count": 132,
     "metadata": {},
     "output_type": "execute_result"
    }
   ],
   "source": [
    "def remove_borders(image):\n",
    "    contours, heiarchy = cv2.findContours(image, cv2.RETR_EXTERNAL, cv2.CHAIN_APPROX_SIMPLE)\n",
    "    cntsSorted = sorted(contours, key=lambda x:cv2.contourArea(x))\n",
    "    cnt = cntsSorted[-1]\n",
    "    x, y, w, h = cv2.boundingRect(cnt)\n",
    "    crop = image[y:y+h, x:x+w]\n",
    "    return (crop)\n",
    "\n",
    "no_borders=remove_borders(no_noise)\n",
    "cv2.imwrite('cleaned_images/no_borders.jpg',no_borders)\n",
    "\n",
    "color=[255,255,255]\n",
    "top,bottom,left,right=[150]*4\n",
    "image_with_border = cv2.copyMakeBorder(no_borders, top, bottom, left, right, cv2.BORDER_CONSTANT, value=color)\n",
    "cv2.imwrite(\"training_file/Buendia-page_1.jpg\", image_with_border)"
   ]
  },
  {
   "cell_type": "code",
   "execution_count": 121,
   "metadata": {},
   "outputs": [
    {
     "data": {
      "text/plain": [
       "True"
      ]
     },
     "execution_count": 121,
     "metadata": {},
     "output_type": "execute_result"
    }
   ],
   "source": [
    "# image = cv2.imread('cleaned_images/image_with_border.jpg')\n",
    "# base_image = image.copy()\n",
    "\n",
    "# gray = cv2.cvtColor(image, cv2.COLOR_BGR2GRAY)\n",
    "# blur = cv2.GaussianBlur(gray, (7,7), 0)\n",
    "# thresh = cv2.threshold(blur, 0, 255, cv2.THRESH_BINARY_INV + cv2.THRESH_OTSU)[1]\n",
    "\n",
    "# # Create rectangular structuring element and dilate\n",
    "# kernel = cv2.getStructuringElement(cv2.MORPH_RECT, (50,100))\n",
    "# dilate = cv2.dilate(thresh, kernel, iterations=1)\n",
    "\n",
    "# # Find contours and draw rectangle\n",
    "# cnts = cv2.findContours(dilate, cv2.RETR_EXTERNAL, cv2.CHAIN_APPROX_SIMPLE)\n",
    "# cnts = cnts[0] if len(cnts) == 2 else cnts[1]\n",
    "# cnts = sorted(cnts, key=lambda x: cv2.boundingRect(x)[1])\n",
    "# main_text = \"\"\n",
    "# for c in cnts:\n",
    "#     x,y,w,h = cv2.boundingRect(c)\n",
    "#     if h < 10 and w > 250:\n",
    "#         roi = base_image[y:y+h, 0:x]\n",
    "#         cv2.rectangle(image, (0, y), (x, 0 + h+10), (36,255,12), 2)\n",
    "\n",
    "# cv2.imwrite(\"cleaned_images/without_marginalia.jpg\",base_image[0:y+h, 0:x])"
   ]
  },
  {
   "cell_type": "code",
   "execution_count": 127,
   "metadata": {},
   "outputs": [
    {
     "name": "stdout",
     "output_type": "stream",
     "text": [
      "t Angee] VOS Dulcifsimo Nifo\n",
      "\n",
      "Yi] Jesus , queno folo Os Ext/ai.33:\n",
      "dignafteis de llamaros '8.\n",
      "Doétor de los Nifos, ** =#*: *\n",
      "fino tambien de afsif- *”°\n",
      "tir como Nino entre los Doctores,\n",
      "fe confagra humilde efta pequena\n",
      "Inftruccion de los Ninos. Es afsi,\n",
      "que ella tambien fe dirige a laju-\n",
      "ventud ; pero aefta, como recuer-\n",
      "do delo que aprendio, alos Ni-\n",
      "fos , como precifa explicacion de\n",
      "lo que deben eftudiar. Por efte fo-\n",
      "lagitulo:es muy vueftra ; y por\n",
      "fer para Nifios , que confiais a la\n",
      "educacion de vueftra Compania,\n",
      "lo es mucho mas. En Vos, ( Divi-\n",
      "no Exemplar de todas las virtu-\n",
      "des ) tienen abreviado el mas {e-\n",
      "\n",
      "qj 2 gura\n",
      "\n",
      "\n"
     ]
    }
   ],
   "source": [
    "ocr_result=pytesseract.image_to_string('cleaned_images/image_with_border.jpg')\n",
    "print(ocr_result)\n",
    "\n"
   ]
  },
  {
   "cell_type": "code",
   "execution_count": 146,
   "metadata": {},
   "outputs": [
    {
     "name": "stderr",
     "output_type": "stream",
     "text": [
      "<>:3: SyntaxWarning: invalid escape sequence '\\p'\n",
      "<>:3: SyntaxWarning: invalid escape sequence '\\p'\n",
      "C:\\Users\\Anirban\\AppData\\Local\\Temp\\ipykernel_12680\\2883004131.py:3: SyntaxWarning: invalid escape sequence '\\p'\n",
      "  image_file='output_images-Buendia - Instruccion\\page_2.jpg'\n"
     ]
    },
    {
     "data": {
      "text/plain": [
       "True"
      ]
     },
     "execution_count": 146,
     "metadata": {},
     "output_type": "execute_result"
    }
   ],
   "source": [
    "def grayscale(image):\n",
    "    return cv2.cvtColor(image,cv2.COLOR_BGR2GRAY)\n",
    "image_file='output_images-Buendia - Instruccion\\page_2.jpg'\n",
    "img=cv2.imread(image_file)\n",
    "gray_image=grayscale(img)\n",
    "cv2.imwrite('cleaned_images/grey.jpg',gray_image)\n",
    "thresh,im_bw=cv2.threshold(gray_image,80,300,cv2.THRESH_BINARY)\n",
    "cv2.imwrite('cleaned_images/bw_image.jpg',im_bw)\n",
    "def noise_removal(image):\n",
    "    import numpy as np \n",
    "    kernel=np.ones((1,1),np.uint8)\n",
    "    image=cv2.dilate(image,kernel,iterations=5)\n",
    "    kernel=np.ones((1,1),np.uint8)\n",
    "    image=cv2.erode(image,kernel,iterations=5)\n",
    "    image=cv2.morphologyEx(image,cv2.MORPH_CLOSE,kernel)\n",
    "    image=cv2.medianBlur(image,3)\n",
    "    return(image)\n",
    "no_noise=noise_removal(im_bw)\n",
    "cv2.imwrite('cleaned_images/no_noise.jpg',no_noise)\n",
    "def thin_font(image):\n",
    "    import numpy as np \n",
    "    image=cv2.bitwise_not(image)\n",
    "    kernel=np.ones((2,2),np.uint8)\n",
    "    image=cv2.erode(image,kernel,iterations=1)\n",
    "    image=cv2.bitwise_not(image)\n",
    "    return(image)\n",
    "eroded_image=thin_font(no_noise)\n",
    "cv2.imwrite('cleaned_images/eroded_image.jpg',eroded_image)"
   ]
  },
  {
   "cell_type": "code",
   "execution_count": 147,
   "metadata": {},
   "outputs": [
    {
     "data": {
      "text/plain": [
       "True"
      ]
     },
     "execution_count": 147,
     "metadata": {},
     "output_type": "execute_result"
    }
   ],
   "source": [
    "def remove_borders(image):\n",
    "    contours, heiarchy = cv2.findContours(image, cv2.RETR_EXTERNAL, cv2.CHAIN_APPROX_SIMPLE)\n",
    "    cntsSorted = sorted(contours, key=lambda x:cv2.contourArea(x))\n",
    "    cnt = cntsSorted[-1]\n",
    "    x, y, w, h = cv2.boundingRect(cnt)\n",
    "    crop = image[y:y+h, x:x+w]\n",
    "    return (crop)\n",
    "\n",
    "no_borders=remove_borders(no_noise)\n",
    "cv2.imwrite('cleaned_images/no_borders.jpg',no_borders)\n",
    "\n",
    "color=[255,255,255]\n",
    "top,bottom,left,right=[150]*4\n",
    "image_with_border = cv2.copyMakeBorder(no_borders, top, bottom, left, right, cv2.BORDER_CONSTANT, value=color)\n",
    "cv2.imwrite(\"training_file/Buendia-page_2.jpg\", image_with_border)"
   ]
  },
  {
   "cell_type": "code",
   "execution_count": 144,
   "metadata": {},
   "outputs": [
    {
     "data": {
      "text/plain": [
       "True"
      ]
     },
     "execution_count": 144,
     "metadata": {},
     "output_type": "execute_result"
    }
   ],
   "source": [
    "image = cv2.imread('cleaned_images/image_with_border.jpg')\n",
    "base_image = image.copy()\n",
    "\n",
    "gray = cv2.cvtColor(image, cv2.COLOR_BGR2GRAY)\n",
    "blur = cv2.GaussianBlur(gray, (7,7), 0)\n",
    "thresh = cv2.threshold(blur, 0, 255, cv2.THRESH_BINARY_INV + cv2.THRESH_OTSU)[1]\n",
    "\n",
    "# Create rectangular structuring element and dilate\n",
    "kernel = cv2.getStructuringElement(cv2.MORPH_RECT, (50,100))\n",
    "dilate = cv2.dilate(thresh, kernel, iterations=1)\n",
    "\n",
    "# Find contours and draw rectangle\n",
    "cnts = cv2.findContours(dilate, cv2.RETR_EXTERNAL, cv2.CHAIN_APPROX_SIMPLE)\n",
    "cnts = cnts[0] if len(cnts) == 2 else cnts[1]\n",
    "cnts = sorted(cnts, key=lambda x: cv2.boundingRect(x)[1])\n",
    "main_text = \"\"\n",
    "for c in cnts:\n",
    "    x,y,w,h = cv2.boundingRect(c)\n",
    "    if h < 10 and w > 250:\n",
    "        roi = base_image[y:y+h, 0:x]\n",
    "        cv2.rectangle(image, (0, y), (x, 0 + h+10), (36,255,12), 2)\n",
    "\n",
    "cv2.imwrite(\"cleaned_images/without_marginalia.jpg\",base_image[0:y+h, 0:x])"
   ]
  },
  {
   "cell_type": "code",
   "execution_count": 137,
   "metadata": {},
   "outputs": [
    {
     "name": "stdout",
     "output_type": "stream",
     "text": [
      "Lue. ibid.\n",
      "\n",
      "Pfal.114.6.\n",
      "gp 113.130,\n",
      "\n",
      "er i8.8.\n",
      "\n",
      "Matth 19.\n",
      "\n",
      "14.\n",
      "\n",
      "M CL; 10.\n",
      "\n",
      "I4-\n",
      "\n",
      "Matt. 18.\n",
      "\n",
      "Zu. PC.\n",
      "\n",
      "guro diffefo af edad : la Reli-\n",
      "gion para con ios en la devora\n",
      "afsiftécia alos Templos;la piedad\n",
      "con los Padres en la obediencia\n",
      "\n",
      "mas rendida; ga modettia, y de-\n",
      "\n",
      "feo de faber ,’con los mayores,\n",
      "guftando mas de olr,y pregun-\n",
      "tar,que de definir,y refolver.Bien\n",
      "que efto ea vueltra infinita Sabi-\n",
      "duria fue foberana dignacion, y\n",
      "en la natural ienorancia de los\n",
      "Nifios es indifpenfable necefs1-\n",
      "dad.\n",
      "\n",
      "Ni tienen folamente en Vos\n",
      "el diffeno , laluz ,y el exemplo,\n",
      "fino tambien el amor, y protec-\n",
      "cion. Vos, como fingular:Maef-\n",
      "tro de los Nifios , les dais enten-\n",
      "dimiento , y comunicais la fabi-\n",
      "\n",
      "-duria.Vos les prometeis el Reyno\n",
      "\n",
      "de los Cielos , y os inditgnais con\n",
      "quien les aparta de Vos, y les\n",
      "proponeis por norma del can-\n",
      "dor, inocencia, y chriftiana hu-\n",
      "mildad. Vucftro amor parece que\n",
      "no pudo explicarfe mas tierno, y\n",
      "liberal con los Ninos , pues no\n",
      "contento de echarles vueftras dis\n",
      "\n",
      "- , divi-\n",
      "\n",
      "divinas bendiciones , les unifteis\n",
      "a vueftro fagrado pecho con {ua-\n",
      "vifsimos abrazos. Dichofa edad,\n",
      "que os merecio tan regalados ca-\n",
      "rinos |\n",
      "\n",
      "Y pues en la celeftial Jeru-\n",
      "\n",
      "falen no ha mudado de condicion\n",
      "vuettra Benignidad , profeguid,\n",
      "© Nifo tierno, y Dios Eterno,\n",
      "profeguid en bendccirles, y favo-\n",
      "recerles. Sean tan fervorofamen-\n",
      "te devotos de vueftra Admirable\n",
      "MapreE, que fe porten como fus\n",
      "hijos , y hermanos de leche con\n",
      "Vos. Seran fabios, fi fueren caf-\n",
      "tos ; que no entra vucltra Sabi-\n",
      "duria ,donde no ay mucha pure-\n",
      "za de conciencia. Crezcan en\n",
      "vueftro fanto temor, y amor, co-\n",
      "como enlos anos,y mucho mas.\n",
      "Adelantenfe en la virtud , como\n",
      "en las letras, y mucho mas ; haf-\n",
      "ta que Ileguen , por vueltra imt-\n",
      "tacion , a fer varones pertedos,\n",
      "y confumados , agradables a\n",
      "vueltros ojos , y provechofos a\n",
      "la Republica , que libra cafi to-\n",
      "da fu felizidad en la acertada\n",
      ". Crian-\n",
      "\n",
      "Marth. 10.\n",
      "16°\n",
      "\n",
      "Cant 8.1.\n",
      "\n",
      "Sap. 1. 40\n",
      "\n",
      "Ad Ephef?\n",
      "4.13.\n",
      "\n"
     ]
    }
   ],
   "source": [
    "ocr_result=pytesseract.image_to_string('cleaned_images/image_with_border.jpg')\n",
    "print(ocr_result)"
   ]
  },
  {
   "cell_type": "code",
   "execution_count": 231,
   "metadata": {},
   "outputs": [
    {
     "name": "stderr",
     "output_type": "stream",
     "text": [
      "<>:3: SyntaxWarning: invalid escape sequence '\\p'\n",
      "<>:3: SyntaxWarning: invalid escape sequence '\\p'\n",
      "C:\\Users\\Anirban\\AppData\\Local\\Temp\\ipykernel_12680\\2587752635.py:3: SyntaxWarning: invalid escape sequence '\\p'\n",
      "  image_file='output_images-Buendia - Instruccion\\page_3.jpg'\n"
     ]
    },
    {
     "data": {
      "text/plain": [
       "True"
      ]
     },
     "execution_count": 231,
     "metadata": {},
     "output_type": "execute_result"
    }
   ],
   "source": [
    "def grayscale(image):\n",
    "    return cv2.cvtColor(image,cv2.COLOR_BGR2GRAY)\n",
    "image_file='output_images-Buendia - Instruccion\\page_3.jpg'\n",
    "img=cv2.imread(image_file)\n",
    "gray_image=grayscale(img)\n",
    "cv2.imwrite('cleaned_images/grey.jpg',gray_image)\n",
    "thresh,im_bw=cv2.threshold(gray_image,100,280,cv2.THRESH_BINARY)\n",
    "cv2.imwrite('cleaned_images/bw_image.jpg',im_bw)\n",
    "def noise_removal(image):\n",
    "    import numpy as np \n",
    "    kernel=np.ones((1,1),np.uint8)\n",
    "    image=cv2.dilate(image,kernel,iterations=5)\n",
    "    kernel=np.ones((1,1),np.uint8)\n",
    "    image=cv2.erode(image,kernel,iterations=5)\n",
    "    image=cv2.morphologyEx(image,cv2.MORPH_CLOSE,kernel)\n",
    "    image=cv2.medianBlur(image,3)\n",
    "    return(image)\n",
    "no_noise=noise_removal(im_bw)\n",
    "cv2.imwrite('cleaned_images/no_noise.jpg',no_noise)\n",
    "def thin_font(image):\n",
    "    import numpy as np \n",
    "    image=cv2.bitwise_not(image)\n",
    "    kernel=np.ones((2,2),np.uint8)\n",
    "    image=cv2.erode(image,kernel,iterations=1)\n",
    "    image=cv2.bitwise_not(image)\n",
    "    return(image)\n",
    "eroded_image=thin_font(no_noise)\n",
    "cv2.imwrite('cleaned_images/eroded_image.jpg',eroded_image)"
   ]
  },
  {
   "cell_type": "code",
   "execution_count": 232,
   "metadata": {},
   "outputs": [
    {
     "data": {
      "text/plain": [
       "True"
      ]
     },
     "execution_count": 232,
     "metadata": {},
     "output_type": "execute_result"
    }
   ],
   "source": [
    "def remove_borders(image):\n",
    "    contours, heiarchy = cv2.findContours(image, cv2.RETR_EXTERNAL, cv2.CHAIN_APPROX_SIMPLE)\n",
    "    cntsSorted = sorted(contours, key=lambda x:cv2.contourArea(x))\n",
    "    cnt = cntsSorted[-1]\n",
    "    x, y, w, h = cv2.boundingRect(cnt)\n",
    "    crop = image[y:y+h, x:x+w]\n",
    "    return (crop)\n",
    "\n",
    "no_borders=remove_borders(no_noise)\n",
    "cv2.imwrite('cleaned_images/no_borders.jpg',no_borders)\n",
    "\n",
    "color=[255,255,255]\n",
    "top,bottom,left,right=[150]*4\n",
    "image_with_border = cv2.copyMakeBorder(no_borders, top, bottom, left, right, cv2.BORDER_CONSTANT, value=color)\n",
    "cv2.imwrite(\"training_file/Buendia-page_3.jpg\", image_with_border)"
   ]
  },
  {
   "cell_type": "code",
   "execution_count": 150,
   "metadata": {},
   "outputs": [
    {
     "name": "stdout",
     "output_type": "stream",
     "text": [
      "Crianza dé la Nifez. Afsi fea;\n",
      "Divinifsimo Nifo , por vuettra\n",
      "pracia, afsi fea, a vueltra mas\n",
      "yor gloria. Amen.\n",
      "\n",
      "CBNSU-\n",
      "\n",
      "eo\n",
      "\n",
      "CENSURA DEL R. P, ANTONIO C04\n",
      "dornin de la Compania de Fefus , Maefs\n",
      "tro que fué de Theologia , Examinaaor\n",
      "\n",
      "Synodal de los Obifpados de Gerona , Urs\n",
      "gel,y Barcelona, Oc,\n",
      "\n",
      "E orden del Iluftre Sefor Don Frans\n",
      "cifco de Baftero y de Vilana, Dr. en\n",
      "ambos Drechos , Canonigo , y Sacriftan\n",
      "Dignidad de la Santa Iglefia de Gerona, y;\n",
      "Vicario General por el lluftrifsimo Senor,\n",
      "D. Balthafar de Baftéro y Lledo , Obifpo\n",
      "de Gerona,del Confejo de fu Mageftad,&c.\n",
      "He vifto un Librico, cuyo tituloes: In/s\n",
      "truccion de Chriftiana ,y Politica Cortefaa\n",
      "nia, Oc. Su Author D. Faufto Aguftin dé\n",
      "Buendia , Colegial que fue en el Imperial\n",
      "de Cordellas, &c. Y brevemente digo\n",
      "no folo que nada conticne contra lake, y,\n",
      "buenas coftumbres , fino que muy atento\n",
      "el Author con entrambas , defcribe ,y en-\n",
      "fefiatanculea, y difcreta la Virtud, co\n",
      "mo fanta la Policia, y Urbanidad. Los\n",
      "Sefioritos , que fe criaren con eftos do-\n",
      "Cumentos , mereceran , quando hombres,\n",
      "aver nacido Sefores. Porque no folo fa-\n",
      "bran fer Caballeros, fino tambien a lo\n",
      "Caba-\n",
      "\n",
      "\n"
     ]
    }
   ],
   "source": [
    "ocr_result=pytesseract.image_to_string('cleaned_images/image_with_border.jpg')\n",
    "print(ocr_result)"
   ]
  },
  {
   "cell_type": "code",
   "execution_count": 198,
   "metadata": {},
   "outputs": [
    {
     "name": "stderr",
     "output_type": "stream",
     "text": [
      "<>:3: SyntaxWarning: invalid escape sequence '\\p'\n",
      "<>:3: SyntaxWarning: invalid escape sequence '\\p'\n",
      "C:\\Users\\Anirban\\AppData\\Local\\Temp\\ipykernel_12680\\1618482368.py:3: SyntaxWarning: invalid escape sequence '\\p'\n",
      "  image_file='output_images-Ezcaray - Vozes\\page_1.jpg'\n"
     ]
    },
    {
     "data": {
      "text/plain": [
       "True"
      ]
     },
     "execution_count": 198,
     "metadata": {},
     "output_type": "execute_result"
    }
   ],
   "source": [
    "def grayscale(image):\n",
    "    return cv2.cvtColor(image,cv2.COLOR_BGR2GRAY)\n",
    "image_file='output_images-Ezcaray - Vozes\\page_1.jpg'\n",
    "img=cv2.imread(image_file)\n",
    "gray_image=grayscale(img)\n",
    "cv2.imwrite('cleaned_images/grey.jpg',gray_image)\n",
    "thresh,im_bw=cv2.threshold(gray_image,140,270,cv2.THRESH_BINARY)\n",
    "cv2.imwrite('cleaned_images/bw_image.jpg',im_bw)\n",
    "def noise_removal(image):\n",
    "    import numpy as np \n",
    "    kernel=np.ones((1,1),np.uint8)\n",
    "    image=cv2.dilate(image,kernel,iterations=4)\n",
    "    kernel=np.ones((1,1),np.uint8)\n",
    "    image=cv2.erode(image,kernel,iterations=5)\n",
    "    image=cv2.morphologyEx(image,cv2.MORPH_CLOSE,kernel)\n",
    "    image=cv2.medianBlur(image,3)\n",
    "    return(image)\n",
    "no_noise=noise_removal(im_bw)\n",
    "cv2.imwrite('cleaned_images/no_noise.jpg',no_noise)\n",
    "def thick_font(image):\n",
    "    import numpy as np\n",
    "    image = cv2.bitwise_not(image)\n",
    "    kernel = np.ones((2,2),np.uint8)\n",
    "    image = cv2.dilate(image, kernel, iterations=3)\n",
    "    image = cv2.bitwise_not(image)\n",
    "    return (image)\n",
    "dilated_image = thick_font(no_noise)\n",
    "cv2.imwrite(\"cleaned_images/dilated_image.jpg\", dilated_image)"
   ]
  },
  {
   "cell_type": "code",
   "execution_count": null,
   "metadata": {},
   "outputs": [],
   "source": []
  },
  {
   "cell_type": "code",
   "execution_count": 189,
   "metadata": {},
   "outputs": [
    {
     "data": {
      "text/plain": [
       "True"
      ]
     },
     "execution_count": 189,
     "metadata": {},
     "output_type": "execute_result"
    }
   ],
   "source": [
    "def remove_borders(image):\n",
    "    contours, heiarchy = cv2.findContours(image, cv2.RETR_EXTERNAL, cv2.CHAIN_APPROX_SIMPLE)\n",
    "    cntsSorted = sorted(contours, key=lambda x:cv2.contourArea(x))\n",
    "    cnt = cntsSorted[-1]\n",
    "    x, y, w, h = cv2.boundingRect(cnt)\n",
    "    crop = image[y:y+h, x:x+w]\n",
    "    return (crop)\n",
    "\n",
    "no_borders=remove_borders(no_noise)\n",
    "cv2.imwrite('cleaned_images/no_borders.jpg',no_borders)\n",
    "\n",
    "color=[255,255,255]\n",
    "top,bottom,left,right=[150]*4\n",
    "image_with_border = cv2.copyMakeBorder(no_borders, top, bottom, left, right, cv2.BORDER_CONSTANT, value=color)\n",
    "cv2.imwrite(\"training_file/Ezcaray-page_1.jpg\", image_with_border)"
   ]
  },
  {
   "cell_type": "code",
   "execution_count": 184,
   "metadata": {},
   "outputs": [
    {
     "name": "stdout",
     "output_type": "stream",
     "text": [
      "~ SENOR ILVSTRISSIMO.\n",
      "\n",
      "B7 Cupado en el exercicio\n",
      "de las Miffiones en el\n",
      "Obifpado de Guadala-\n",
      " xara,recibi vna de V.S_I.\n",
      "en que me da noticta de\n",
      "como fu Mageftad ( que Dios guarde)\n",
      "{ec avia fervido de honrarme con la\n",
      "merced de fu Predicader; y como no\n",
      "{fv opone la predicacion de fu Magef-\n",
      "tad ala Apoftolica,tuve por de mi obli\n",
      "\n",
      "cion admitir el favor, rindicndo a\n",
      "V.S.I. el agradect micnto.\n",
      "\n",
      "FI] Rey mi fenor( que Dios guarde)\n",
      "hizo lagracia ; masa V.S.I. fe le debe:\n",
      "\n",
      "que por mas frutos, que diera la tierra:\n",
      "\n",
      "de Promiffion , no los lograra Moyfes,\n",
      "fi Jofue,y Caleb no losfacaflen, Dos\n",
      "facaron el fruto, y de ambos neceffiro,\n",
      "para hallar vn fimil proporcionado ala\n",
      "\n",
      "erandeza de V.S.I.\n",
      "*, A\n",
      "\n",
      "oe |\n",
      "\n"
     ]
    }
   ],
   "source": [
    "ocr_result=pytesseract.image_to_string('cleaned_images/image_with_border.jpg')\n",
    "print(ocr_result)"
   ]
  },
  {
   "cell_type": "code",
   "execution_count": 196,
   "metadata": {},
   "outputs": [
    {
     "name": "stderr",
     "output_type": "stream",
     "text": [
      "<>:3: SyntaxWarning: invalid escape sequence '\\p'\n",
      "<>:3: SyntaxWarning: invalid escape sequence '\\p'\n",
      "C:\\Users\\Anirban\\AppData\\Local\\Temp\\ipykernel_12680\\2623697300.py:3: SyntaxWarning: invalid escape sequence '\\p'\n",
      "  image_file='output_images-Ezcaray - Vozes\\page_2.jpg'\n"
     ]
    },
    {
     "data": {
      "text/plain": [
       "True"
      ]
     },
     "execution_count": 196,
     "metadata": {},
     "output_type": "execute_result"
    }
   ],
   "source": [
    "def grayscale(image):\n",
    "    return cv2.cvtColor(image,cv2.COLOR_BGR2GRAY)\n",
    "image_file='output_images-Ezcaray - Vozes\\page_2.jpg'\n",
    "img=cv2.imread(image_file)\n",
    "gray_image=grayscale(img)\n",
    "cv2.imwrite('cleaned_images/grey.jpg',gray_image)\n",
    "thresh,im_bw=cv2.threshold(gray_image,140,250,cv2.THRESH_BINARY)\n",
    "cv2.imwrite('cleaned_images/bw_image.jpg',im_bw)\n",
    "def noise_removal(image):\n",
    "    import numpy as np \n",
    "    kernel=np.ones((1,1),np.uint8)\n",
    "    image=cv2.dilate(image,kernel,iterations=4)\n",
    "    kernel=np.ones((1,1),np.uint8)\n",
    "    image=cv2.erode(image,kernel,iterations=5)\n",
    "    image=cv2.morphologyEx(image,cv2.MORPH_CLOSE,kernel)\n",
    "    image=cv2.medianBlur(image,3)\n",
    "    return(image)\n",
    "no_noise=noise_removal(im_bw)\n",
    "cv2.imwrite('cleaned_images/no_noise.jpg',no_noise)\n",
    "def thick_font(image):\n",
    "    import numpy as np\n",
    "    image = cv2.bitwise_not(image)\n",
    "    kernel = np.ones((2,2),np.uint8)\n",
    "    image = cv2.dilate(image, kernel, iterations=3)\n",
    "    image = cv2.bitwise_not(image)\n",
    "    return (image)\n",
    "dilated_image = thick_font(no_noise)\n",
    "cv2.imwrite(\"cleaned_images/dilated_image.jpg\", dilated_image)"
   ]
  },
  {
   "cell_type": "code",
   "execution_count": 197,
   "metadata": {},
   "outputs": [
    {
     "data": {
      "text/plain": [
       "True"
      ]
     },
     "execution_count": 197,
     "metadata": {},
     "output_type": "execute_result"
    }
   ],
   "source": [
    "def remove_borders(image):\n",
    "    contours, heiarchy = cv2.findContours(image, cv2.RETR_EXTERNAL, cv2.CHAIN_APPROX_SIMPLE)\n",
    "    cntsSorted = sorted(contours, key=lambda x:cv2.contourArea(x))\n",
    "    cnt = cntsSorted[-1]\n",
    "    x, y, w, h = cv2.boundingRect(cnt)\n",
    "    crop = image[y:y+h, x:x+w]\n",
    "    return (crop)\n",
    "\n",
    "no_borders=remove_borders(no_noise)\n",
    "cv2.imwrite('cleaned_images/no_borders.jpg',no_borders)\n",
    "\n",
    "color=[255,255,255]\n",
    "top,bottom,left,right=[150]*4\n",
    "image_with_border = cv2.copyMakeBorder(no_borders, top, bottom, left, right, cv2.BORDER_CONSTANT, value=color)\n",
    "cv2.imwrite(\"training_file/Ezcaray-page_2.jpg\", image_with_border)"
   ]
  },
  {
   "cell_type": "code",
   "execution_count": 199,
   "metadata": {},
   "outputs": [
    {
     "name": "stderr",
     "output_type": "stream",
     "text": [
      "<>:3: SyntaxWarning: invalid escape sequence '\\p'\n",
      "<>:3: SyntaxWarning: invalid escape sequence '\\p'\n",
      "C:\\Users\\Anirban\\AppData\\Local\\Temp\\ipykernel_12680\\149300071.py:3: SyntaxWarning: invalid escape sequence '\\p'\n",
      "  image_file='output_images-Ezcaray - Vozes\\page_3.jpg'\n"
     ]
    },
    {
     "data": {
      "text/plain": [
       "True"
      ]
     },
     "execution_count": 199,
     "metadata": {},
     "output_type": "execute_result"
    }
   ],
   "source": [
    "def grayscale(image):\n",
    "    return cv2.cvtColor(image,cv2.COLOR_BGR2GRAY)\n",
    "image_file='output_images-Ezcaray - Vozes\\page_3.jpg'\n",
    "img=cv2.imread(image_file)\n",
    "gray_image=grayscale(img)\n",
    "cv2.imwrite('cleaned_images/grey.jpg',gray_image)\n",
    "thresh,im_bw=cv2.threshold(gray_image,140,250,cv2.THRESH_BINARY)\n",
    "cv2.imwrite('cleaned_images/bw_image.jpg',im_bw)\n",
    "def noise_removal(image):\n",
    "    import numpy as np \n",
    "    kernel=np.ones((1,1),np.uint8)\n",
    "    image=cv2.dilate(image,kernel,iterations=4)\n",
    "    kernel=np.ones((1,1),np.uint8)\n",
    "    image=cv2.erode(image,kernel,iterations=5)\n",
    "    image=cv2.morphologyEx(image,cv2.MORPH_CLOSE,kernel)\n",
    "    image=cv2.medianBlur(image,3)\n",
    "    return(image)\n",
    "no_noise=noise_removal(im_bw)\n",
    "cv2.imwrite('cleaned_images/no_noise.jpg',no_noise)\n",
    "def thick_font(image):\n",
    "    import numpy as np\n",
    "    image = cv2.bitwise_not(image)\n",
    "    kernel = np.ones((2,2),np.uint8)\n",
    "    image = cv2.dilate(image, kernel, iterations=3)\n",
    "    image = cv2.bitwise_not(image)\n",
    "    return (image)\n",
    "dilated_image = thick_font(no_noise)\n",
    "cv2.imwrite(\"cleaned_images/dilated_image.jpg\", dilated_image)"
   ]
  },
  {
   "cell_type": "code",
   "execution_count": 200,
   "metadata": {},
   "outputs": [
    {
     "data": {
      "text/plain": [
       "True"
      ]
     },
     "execution_count": 200,
     "metadata": {},
     "output_type": "execute_result"
    }
   ],
   "source": [
    "def remove_borders(image):\n",
    "    contours, heiarchy = cv2.findContours(image, cv2.RETR_EXTERNAL, cv2.CHAIN_APPROX_SIMPLE)\n",
    "    cntsSorted = sorted(contours, key=lambda x:cv2.contourArea(x))\n",
    "    cnt = cntsSorted[-1]\n",
    "    x, y, w, h = cv2.boundingRect(cnt)\n",
    "    crop = image[y:y+h, x:x+w]\n",
    "    return (crop)\n",
    "\n",
    "no_borders=remove_borders(no_noise)\n",
    "cv2.imwrite('cleaned_images/no_borders.jpg',no_borders)\n",
    "\n",
    "color=[255,255,255]\n",
    "top,bottom,left,right=[150]*4\n",
    "image_with_border = cv2.copyMakeBorder(no_borders, top, bottom, left, right, cv2.BORDER_CONSTANT, value=color)\n",
    "cv2.imwrite(\"training_file/Ezcaray-page_3.jpg\", image_with_border)"
   ]
  },
  {
   "cell_type": "code",
   "execution_count": 205,
   "metadata": {},
   "outputs": [
    {
     "name": "stderr",
     "output_type": "stream",
     "text": [
      "<>:3: SyntaxWarning: invalid escape sequence '\\p'\n",
      "<>:3: SyntaxWarning: invalid escape sequence '\\p'\n",
      "C:\\Users\\Anirban\\AppData\\Local\\Temp\\ipykernel_12680\\28697337.py:3: SyntaxWarning: invalid escape sequence '\\p'\n",
      "  image_file='output_images-Mendo - Principe perfecto\\page_1.jpg'\n"
     ]
    },
    {
     "data": {
      "text/plain": [
       "True"
      ]
     },
     "execution_count": 205,
     "metadata": {},
     "output_type": "execute_result"
    }
   ],
   "source": [
    "def grayscale(image):\n",
    "    return cv2.cvtColor(image,cv2.COLOR_BGR2GRAY)\n",
    "image_file='output_images-Mendo - Principe perfecto\\page_1.jpg'\n",
    "img=cv2.imread(image_file)\n",
    "gray_image=grayscale(img)\n",
    "cv2.imwrite('cleaned_images/grey.jpg',gray_image)\n",
    "thresh,im_bw=cv2.threshold(gray_image,100,280,cv2.THRESH_BINARY)\n",
    "cv2.imwrite('cleaned_images/bw_image.jpg',im_bw)\n",
    "def noise_removal(image):\n",
    "    import numpy as np \n",
    "    kernel=np.ones((1,1),np.uint8)\n",
    "    image=cv2.dilate(image,kernel,iterations=4)\n",
    "    kernel=np.ones((1,1),np.uint8)\n",
    "    image=cv2.erode(image,kernel,iterations=5)\n",
    "    image=cv2.morphologyEx(image,cv2.MORPH_CLOSE,kernel)\n",
    "    image=cv2.medianBlur(image,3)\n",
    "    return(image)\n",
    "no_noise=noise_removal(im_bw)\n",
    "cv2.imwrite('cleaned_images/no_noise.jpg',no_noise)\n",
    "def thick_font(image):\n",
    "    import numpy as np\n",
    "    image = cv2.bitwise_not(image)\n",
    "    kernel = np.ones((2,2),np.uint8)\n",
    "    image = cv2.dilate(image, kernel, iterations=3)\n",
    "    image = cv2.bitwise_not(image)\n",
    "    return (image)\n",
    "dilated_image = thick_font(no_noise)\n",
    "cv2.imwrite(\"cleaned_images/dilated_image.jpg\", dilated_image)"
   ]
  },
  {
   "cell_type": "code",
   "execution_count": 206,
   "metadata": {},
   "outputs": [
    {
     "data": {
      "text/plain": [
       "True"
      ]
     },
     "execution_count": 206,
     "metadata": {},
     "output_type": "execute_result"
    }
   ],
   "source": [
    "def remove_borders(image):\n",
    "    contours, heiarchy = cv2.findContours(image, cv2.RETR_EXTERNAL, cv2.CHAIN_APPROX_SIMPLE)\n",
    "    cntsSorted = sorted(contours, key=lambda x:cv2.contourArea(x))\n",
    "    cnt = cntsSorted[-1]\n",
    "    x, y, w, h = cv2.boundingRect(cnt)\n",
    "    crop = image[y:y+h, x:x+w]\n",
    "    return (crop)\n",
    "\n",
    "no_borders=remove_borders(no_noise)\n",
    "cv2.imwrite('cleaned_images/no_borders.jpg',no_borders)\n",
    "\n",
    "color=[255,255,255]\n",
    "top,bottom,left,right=[150]*4\n",
    "image_with_border = cv2.copyMakeBorder(no_borders, top, bottom, left, right, cv2.BORDER_CONSTANT, value=color)\n",
    "cv2.imwrite(\"training_file/Mendo-page_1.jpg\", image_with_border)"
   ]
  },
  {
   "cell_type": "code",
   "execution_count": 207,
   "metadata": {},
   "outputs": [
    {
     "name": "stdout",
     "output_type": "stream",
     "text": [
      "OPK seat = oa 2 aT Sy\n",
      "} aerate)\n",
      "\n",
      "yes a\n",
      "\n",
      "tte\n",
      "\n",
      "AL ILLVSTRISSIMO. SENOR\n",
      "\n",
      "DON ALONSO PEREZ\n",
      "DE GVZMAN EL BVENO.,\n",
      "\n",
      "PATRIARCHA DE LAS INDIAS,\n",
      "Arzobifpo de Tyro, Limofnero mayor del Rey\n",
      "Nueftro Sefior Don Felipe IV. el Grande Rey de\n",
      "las Efpaiias , del Confejo de fu Mageftad , y Iuez\n",
      "Eclefiaftico Ordinario de fu Real Capilla, Cafa,\n",
      "y Corte.\n",
      "\n",
      "EGVNDA ~wez, (Ilastriffimo Senor) falen de\n",
      "la eftampa eftos Documentos Politicos , y Morales\n",
      "para formar vn Principe perfetto , 'y Minifires aju-\n",
      "ftados , por auer{e defpachado en tiempo breue la lm-\n",
      "WS prefion primera. Helos attadido de nueuo , y exornado\n",
      "con eftampas de Emblemas , que con mas balago de los ojos pongan a\n",
      "la vifta las enfenanzas. Confagre ala Mageftad Catolica de nuefiro\n",
      "“Monarca la primera vex efte libro, y para que buelua mejorado a fus\n",
      "Reales manos , le pongo enlasdeV.S.1. de quten le admitira con los\n",
      "agrados , que tienen a {a Mageftad merecidos [us grandes , y conti-\n",
      "nuados feruicios. Como fino vuieraV.S. |. heredado de [us excellenti-\n",
      "fimos Progenitores fer Guzman el Bueno , con [us acciones ha gran-\n",
      "fT 2 geado\n",
      "\n",
      "SS)\n",
      "Bae ce\n",
      "; = See =\n",
      "\n",
      "ee\n",
      "\n"
     ]
    }
   ],
   "source": [
    "ocr_result=pytesseract.image_to_string('training_file/Mendo-page_1.jpg')\n",
    "print(ocr_result)"
   ]
  },
  {
   "cell_type": "code",
   "execution_count": 209,
   "metadata": {},
   "outputs": [
    {
     "name": "stderr",
     "output_type": "stream",
     "text": [
      "<>:3: SyntaxWarning: invalid escape sequence '\\p'\n",
      "<>:3: SyntaxWarning: invalid escape sequence '\\p'\n",
      "C:\\Users\\Anirban\\AppData\\Local\\Temp\\ipykernel_12680\\2130960157.py:3: SyntaxWarning: invalid escape sequence '\\p'\n",
      "  image_file='output_images-Mendo - Principe perfecto\\page_2.jpg'\n"
     ]
    },
    {
     "data": {
      "text/plain": [
       "True"
      ]
     },
     "execution_count": 209,
     "metadata": {},
     "output_type": "execute_result"
    }
   ],
   "source": [
    "def grayscale(image):\n",
    "    return cv2.cvtColor(image,cv2.COLOR_BGR2GRAY)\n",
    "image_file='output_images-Mendo - Principe perfecto\\page_2.jpg'\n",
    "img=cv2.imread(image_file)\n",
    "gray_image=grayscale(img)\n",
    "cv2.imwrite('cleaned_images/grey.jpg',gray_image)\n",
    "thresh,im_bw=cv2.threshold(gray_image,100,280,cv2.THRESH_BINARY)\n",
    "cv2.imwrite('cleaned_images/bw_image.jpg',im_bw)\n",
    "def noise_removal(image):\n",
    "    import numpy as np \n",
    "    kernel=np.ones((1,1),np.uint8)\n",
    "    image=cv2.dilate(image,kernel,iterations=4)\n",
    "    kernel=np.ones((1,1),np.uint8)\n",
    "    image=cv2.erode(image,kernel,iterations=5)\n",
    "    image=cv2.morphologyEx(image,cv2.MORPH_CLOSE,kernel)\n",
    "    image=cv2.medianBlur(image,3)\n",
    "    return(image)\n",
    "no_noise=noise_removal(im_bw)\n",
    "cv2.imwrite('cleaned_images/no_noise.jpg',no_noise)\n",
    "def thick_font(image):\n",
    "    import numpy as np\n",
    "    image = cv2.bitwise_not(image)\n",
    "    kernel = np.ones((2,2),np.uint8)\n",
    "    image = cv2.dilate(image, kernel, iterations=3)\n",
    "    image = cv2.bitwise_not(image)\n",
    "    return (image)\n",
    "dilated_image = thick_font(no_noise)\n",
    "cv2.imwrite(\"cleaned_images/dilated_image.jpg\", dilated_image)"
   ]
  },
  {
   "cell_type": "code",
   "execution_count": 210,
   "metadata": {},
   "outputs": [
    {
     "data": {
      "text/plain": [
       "True"
      ]
     },
     "execution_count": 210,
     "metadata": {},
     "output_type": "execute_result"
    }
   ],
   "source": [
    "def remove_borders(image):\n",
    "    contours, heiarchy = cv2.findContours(image, cv2.RETR_EXTERNAL, cv2.CHAIN_APPROX_SIMPLE)\n",
    "    cntsSorted = sorted(contours, key=lambda x:cv2.contourArea(x))\n",
    "    cnt = cntsSorted[-1]\n",
    "    x, y, w, h = cv2.boundingRect(cnt)\n",
    "    crop = image[y:y+h, x:x+w]\n",
    "    return (crop)\n",
    "\n",
    "no_borders=remove_borders(no_noise)\n",
    "cv2.imwrite('cleaned_images/no_borders.jpg',no_borders)\n",
    "\n",
    "color=[255,255,255]\n",
    "top,bottom,left,right=[150]*4\n",
    "image_with_border = cv2.copyMakeBorder(no_borders, top, bottom, left, right, cv2.BORDER_CONSTANT, value=color)\n",
    "cv2.imwrite(\"training_file/Mendo-page_2.jpg\", image_with_border)"
   ]
  },
  {
   "cell_type": "code",
   "execution_count": 211,
   "metadata": {},
   "outputs": [
    {
     "name": "stderr",
     "output_type": "stream",
     "text": [
      "<>:3: SyntaxWarning: invalid escape sequence '\\p'\n",
      "<>:3: SyntaxWarning: invalid escape sequence '\\p'\n",
      "C:\\Users\\Anirban\\AppData\\Local\\Temp\\ipykernel_12680\\2050879505.py:3: SyntaxWarning: invalid escape sequence '\\p'\n",
      "  image_file='output_images-Mendo - Principe perfecto\\page_3.jpg'\n"
     ]
    },
    {
     "data": {
      "text/plain": [
       "True"
      ]
     },
     "execution_count": 211,
     "metadata": {},
     "output_type": "execute_result"
    }
   ],
   "source": [
    "def grayscale(image):\n",
    "    return cv2.cvtColor(image,cv2.COLOR_BGR2GRAY)\n",
    "image_file='output_images-Mendo - Principe perfecto\\page_3.jpg'\n",
    "img=cv2.imread(image_file)\n",
    "gray_image=grayscale(img)\n",
    "cv2.imwrite('cleaned_images/grey.jpg',gray_image)\n",
    "thresh,im_bw=cv2.threshold(gray_image,100,280,cv2.THRESH_BINARY)\n",
    "cv2.imwrite('cleaned_images/bw_image.jpg',im_bw)\n",
    "def noise_removal(image):\n",
    "    import numpy as np \n",
    "    kernel=np.ones((1,1),np.uint8)\n",
    "    image=cv2.dilate(image,kernel,iterations=4)\n",
    "    kernel=np.ones((1,1),np.uint8)\n",
    "    image=cv2.erode(image,kernel,iterations=5)\n",
    "    image=cv2.morphologyEx(image,cv2.MORPH_CLOSE,kernel)\n",
    "    image=cv2.medianBlur(image,3)\n",
    "    return(image)\n",
    "no_noise=noise_removal(im_bw)\n",
    "cv2.imwrite('cleaned_images/no_noise.jpg',no_noise)\n",
    "def thick_font(image):\n",
    "    import numpy as np\n",
    "    image = cv2.bitwise_not(image)\n",
    "    kernel = np.ones((2,2),np.uint8)\n",
    "    image = cv2.dilate(image, kernel, iterations=3)\n",
    "    image = cv2.bitwise_not(image)\n",
    "    return (image)\n",
    "dilated_image = thick_font(no_noise)\n",
    "cv2.imwrite(\"cleaned_images/dilated_image.jpg\", dilated_image)"
   ]
  },
  {
   "cell_type": "code",
   "execution_count": 212,
   "metadata": {},
   "outputs": [
    {
     "data": {
      "text/plain": [
       "True"
      ]
     },
     "execution_count": 212,
     "metadata": {},
     "output_type": "execute_result"
    }
   ],
   "source": [
    "def remove_borders(image):\n",
    "    contours, heiarchy = cv2.findContours(image, cv2.RETR_EXTERNAL, cv2.CHAIN_APPROX_SIMPLE)\n",
    "    cntsSorted = sorted(contours, key=lambda x:cv2.contourArea(x))\n",
    "    cnt = cntsSorted[-1]\n",
    "    x, y, w, h = cv2.boundingRect(cnt)\n",
    "    crop = image[y:y+h, x:x+w]\n",
    "    return (crop)\n",
    "\n",
    "no_borders=remove_borders(no_noise)\n",
    "cv2.imwrite('cleaned_images/no_borders.jpg',no_borders)\n",
    "\n",
    "color=[255,255,255]\n",
    "top,bottom,left,right=[150]*4\n",
    "image_with_border = cv2.copyMakeBorder(no_borders, top, bottom, left, right, cv2.BORDER_CONSTANT, value=color)\n",
    "cv2.imwrite(\"training_file/Mendo-page_3.jpg\", image_with_border)"
   ]
  },
  {
   "cell_type": "code",
   "execution_count": 223,
   "metadata": {},
   "outputs": [
    {
     "name": "stderr",
     "output_type": "stream",
     "text": [
      "<>:3: SyntaxWarning: invalid escape sequence '\\p'\n",
      "<>:3: SyntaxWarning: invalid escape sequence '\\p'\n",
      "C:\\Users\\Anirban\\AppData\\Local\\Temp\\ipykernel_12680\\3605199978.py:3: SyntaxWarning: invalid escape sequence '\\p'\n",
      "  image_file='output_images-Paredes - Reglas generales\\page_1.jpg'\n"
     ]
    },
    {
     "data": {
      "text/plain": [
       "True"
      ]
     },
     "execution_count": 223,
     "metadata": {},
     "output_type": "execute_result"
    }
   ],
   "source": [
    "def grayscale(image):\n",
    "    return cv2.cvtColor(image,cv2.COLOR_BGR2GRAY)\n",
    "image_file='output_images-Paredes - Reglas generales\\page_1.jpg'\n",
    "img=cv2.imread(image_file)\n",
    "gray_image=grayscale(img)\n",
    "cv2.imwrite('cleaned_images/grey.jpg',gray_image)\n",
    "thresh,im_bw=cv2.threshold(gray_image,100,270,cv2.THRESH_BINARY)\n",
    "cv2.imwrite('cleaned_images/bw_image.jpg',im_bw)\n",
    "def noise_removal(image):\n",
    "    import numpy as np \n",
    "    kernel=np.ones((1,1),np.uint8)\n",
    "    image=cv2.dilate(image,kernel,iterations=3)\n",
    "    kernel=np.ones((1,1),np.uint8)\n",
    "    image=cv2.erode(image,kernel,iterations=3)\n",
    "    image=cv2.morphologyEx(image,cv2.MORPH_CLOSE,kernel)\n",
    "    image=cv2.medianBlur(image,3)\n",
    "    return(image)\n",
    "no_noise=noise_removal(im_bw)\n",
    "cv2.imwrite('cleaned_images/no_noise.jpg',no_noise)\n",
    "def thick_font(image):\n",
    "    import numpy as np\n",
    "    image = cv2.bitwise_not(image)\n",
    "    kernel = np.ones((2,2),np.uint8)\n",
    "    image = cv2.dilate(image, kernel, iterations=5)\n",
    "    image = cv2.bitwise_not(image)\n",
    "    return (image)\n",
    "dilated_image = thick_font(no_noise)\n",
    "cv2.imwrite(\"cleaned_images/dilated_image.jpg\", dilated_image)"
   ]
  },
  {
   "cell_type": "code",
   "execution_count": 224,
   "metadata": {},
   "outputs": [
    {
     "data": {
      "text/plain": [
       "True"
      ]
     },
     "execution_count": 224,
     "metadata": {},
     "output_type": "execute_result"
    }
   ],
   "source": [
    "def remove_borders(image):\n",
    "    contours, heiarchy = cv2.findContours(image, cv2.RETR_EXTERNAL, cv2.CHAIN_APPROX_SIMPLE)\n",
    "    cntsSorted = sorted(contours, key=lambda x:cv2.contourArea(x))\n",
    "    cnt = cntsSorted[-1]\n",
    "    x, y, w, h = cv2.boundingRect(cnt)\n",
    "    crop = image[y:y+h, x:x+w]\n",
    "    return (crop)\n",
    "\n",
    "no_borders=remove_borders(no_noise)\n",
    "cv2.imwrite('cleaned_images/no_borders.jpg',no_borders)\n",
    "\n",
    "color=[255,255,255]\n",
    "top,bottom,left,right=[150]*4\n",
    "image_with_border = cv2.copyMakeBorder(no_borders, top, bottom, left, right, cv2.BORDER_CONSTANT, value=color)\n",
    "cv2.imwrite(\"training_file/Paredes-page_1.jpg\", image_with_border)"
   ]
  },
  {
   "cell_type": "code",
   "execution_count": 225,
   "metadata": {},
   "outputs": [
    {
     "name": "stderr",
     "output_type": "stream",
     "text": [
      "<>:3: SyntaxWarning: invalid escape sequence '\\p'\n",
      "<>:3: SyntaxWarning: invalid escape sequence '\\p'\n",
      "C:\\Users\\Anirban\\AppData\\Local\\Temp\\ipykernel_12680\\4264548853.py:3: SyntaxWarning: invalid escape sequence '\\p'\n",
      "  image_file='output_images-Paredes - Reglas generales\\page_2.jpg'\n"
     ]
    },
    {
     "data": {
      "text/plain": [
       "True"
      ]
     },
     "execution_count": 225,
     "metadata": {},
     "output_type": "execute_result"
    }
   ],
   "source": [
    "def grayscale(image):\n",
    "    return cv2.cvtColor(image,cv2.COLOR_BGR2GRAY)\n",
    "image_file='output_images-Paredes - Reglas generales\\page_2.jpg'\n",
    "img=cv2.imread(image_file)\n",
    "gray_image=grayscale(img)\n",
    "cv2.imwrite('cleaned_images/grey.jpg',gray_image)\n",
    "thresh,im_bw=cv2.threshold(gray_image,100,270,cv2.THRESH_BINARY)\n",
    "cv2.imwrite('cleaned_images/bw_image.jpg',im_bw)\n",
    "def noise_removal(image):\n",
    "    import numpy as np \n",
    "    kernel=np.ones((1,1),np.uint8)\n",
    "    image=cv2.dilate(image,kernel,iterations=3)\n",
    "    kernel=np.ones((1,1),np.uint8)\n",
    "    image=cv2.erode(image,kernel,iterations=3)\n",
    "    image=cv2.morphologyEx(image,cv2.MORPH_CLOSE,kernel)\n",
    "    image=cv2.medianBlur(image,3)\n",
    "    return(image)\n",
    "no_noise=noise_removal(im_bw)\n",
    "cv2.imwrite('cleaned_images/no_noise.jpg',no_noise)\n",
    "def thick_font(image):\n",
    "    import numpy as np\n",
    "    image = cv2.bitwise_not(image)\n",
    "    kernel = np.ones((2,2),np.uint8)\n",
    "    image = cv2.dilate(image, kernel, iterations=5)\n",
    "    image = cv2.bitwise_not(image)\n",
    "    return (image)\n",
    "dilated_image = thick_font(no_noise)\n",
    "cv2.imwrite(\"cleaned_images/dilated_image.jpg\", dilated_image)"
   ]
  },
  {
   "cell_type": "code",
   "execution_count": 226,
   "metadata": {},
   "outputs": [
    {
     "data": {
      "text/plain": [
       "True"
      ]
     },
     "execution_count": 226,
     "metadata": {},
     "output_type": "execute_result"
    }
   ],
   "source": [
    "def remove_borders(image):\n",
    "    contours, heiarchy = cv2.findContours(image, cv2.RETR_EXTERNAL, cv2.CHAIN_APPROX_SIMPLE)\n",
    "    cntsSorted = sorted(contours, key=lambda x:cv2.contourArea(x))\n",
    "    cnt = cntsSorted[-1]\n",
    "    x, y, w, h = cv2.boundingRect(cnt)\n",
    "    crop = image[y:y+h, x:x+w]\n",
    "    return (crop)\n",
    "\n",
    "no_borders=remove_borders(no_noise)\n",
    "cv2.imwrite('cleaned_images/no_borders.jpg',no_borders)\n",
    "\n",
    "color=[255,255,255]\n",
    "top,bottom,left,right=[150]*4\n",
    "image_with_border = cv2.copyMakeBorder(no_borders, top, bottom, left, right, cv2.BORDER_CONSTANT, value=color)\n",
    "cv2.imwrite(\"training_file/Paredes-page_2.jpg\", image_with_border)"
   ]
  },
  {
   "cell_type": "code",
   "execution_count": 229,
   "metadata": {},
   "outputs": [
    {
     "name": "stderr",
     "output_type": "stream",
     "text": [
      "<>:3: SyntaxWarning: invalid escape sequence '\\p'\n",
      "<>:3: SyntaxWarning: invalid escape sequence '\\p'\n",
      "C:\\Users\\Anirban\\AppData\\Local\\Temp\\ipykernel_12680\\2016783801.py:3: SyntaxWarning: invalid escape sequence '\\p'\n",
      "  image_file='output_images-Paredes - Reglas generales\\page_3.jpg'\n"
     ]
    },
    {
     "data": {
      "text/plain": [
       "True"
      ]
     },
     "execution_count": 229,
     "metadata": {},
     "output_type": "execute_result"
    }
   ],
   "source": [
    "def grayscale(image):\n",
    "    return cv2.cvtColor(image,cv2.COLOR_BGR2GRAY)\n",
    "image_file='output_images-Paredes - Reglas generales\\page_3.jpg'\n",
    "img=cv2.imread(image_file)\n",
    "gray_image=grayscale(img)\n",
    "cv2.imwrite('cleaned_images/grey.jpg',gray_image)\n",
    "thresh,im_bw=cv2.threshold(gray_image,120,280,cv2.THRESH_BINARY)\n",
    "cv2.imwrite('cleaned_images/bw_image.jpg',im_bw)\n",
    "def noise_removal(image):\n",
    "    import numpy as np \n",
    "    kernel=np.ones((1,1),np.uint8)\n",
    "    image=cv2.dilate(image,kernel,iterations=3)\n",
    "    kernel=np.ones((1,1),np.uint8)\n",
    "    image=cv2.erode(image,kernel,iterations=3)\n",
    "    image=cv2.morphologyEx(image,cv2.MORPH_CLOSE,kernel)\n",
    "    image=cv2.medianBlur(image,3)\n",
    "    return(image)\n",
    "no_noise=noise_removal(im_bw)\n",
    "cv2.imwrite('cleaned_images/no_noise.jpg',no_noise)\n",
    "def thick_font(image):\n",
    "    import numpy as np\n",
    "    image = cv2.bitwise_not(image)\n",
    "    kernel = np.ones((2,2),np.uint8)\n",
    "    image = cv2.dilate(image, kernel, iterations=5)\n",
    "    image = cv2.bitwise_not(image)\n",
    "    return (image)\n",
    "dilated_image = thick_font(no_noise)\n",
    "cv2.imwrite(\"cleaned_images/dilated_image.jpg\", dilated_image)"
   ]
  },
  {
   "cell_type": "code",
   "execution_count": 230,
   "metadata": {},
   "outputs": [
    {
     "data": {
      "text/plain": [
       "True"
      ]
     },
     "execution_count": 230,
     "metadata": {},
     "output_type": "execute_result"
    }
   ],
   "source": [
    "def remove_borders(image):\n",
    "    contours, heiarchy = cv2.findContours(image, cv2.RETR_EXTERNAL, cv2.CHAIN_APPROX_SIMPLE)\n",
    "    cntsSorted = sorted(contours, key=lambda x:cv2.contourArea(x))\n",
    "    cnt = cntsSorted[-1]\n",
    "    x, y, w, h = cv2.boundingRect(cnt)\n",
    "    crop = image[y:y+h, x:x+w]\n",
    "    return (crop)\n",
    "\n",
    "no_borders=remove_borders(no_noise)\n",
    "cv2.imwrite('cleaned_images/no_borders.jpg',no_borders)\n",
    "\n",
    "color=[255,255,255]\n",
    "top,bottom,left,right=[150]*4\n",
    "image_with_border = cv2.copyMakeBorder(no_borders, top, bottom, left, right, cv2.BORDER_CONSTANT, value=color)\n",
    "cv2.imwrite(\"training_file/Paredes-page_3.jpg\", image_with_border)"
   ]
  },
  {
   "cell_type": "code",
   "execution_count": 233,
   "metadata": {},
   "outputs": [
    {
     "name": "stdout",
     "output_type": "stream",
     "text": [
      "on,\n",
      "\n",
      "— Inftitucion del Arte\n",
      "eneldedo uarto de la mana; lucgoen levendg lo que hAitomi-\n",
      "do,ircon jos dos dedos pu'gargy wndice c-hando cada ctra en fu\n",
      "\n",
      "_ caxoncito, poniendo mucho cugdado en 1.0 errar.0Sy P ri telter\n",
      "‘/,- | ° ‘ mi “4\n",
      "deé{pues poce que corregir. La jeftra,. para gue eftemas triatabycyy,\n",
      "\n",
      "fe diftribuya con ms ve.ocidad yha de eftar fiem-re moy da,\n",
      "\n",
      "Para componer fe abraga e} compor cdor con.os, uctro dedcs, -\n",
      "\n",
      "y palma deia mano izquierd'sy el dedo pulgar recibe laletr gue\n",
      "Ja mano derecha trse,y la acomoda como ha «« eltars y en Gua-\n",
      "ty Ja letra viene de fde ia caxa al Componecor ha de cftarlavilta\n",
      "\n",
      "enla letra Cguict: te que fe ha de tomar, para tomarla por la Cas\n",
      "\n",
      "'b ca,porla mayor brevedad: porque como « ite exercicio conf;\n",
      "\n",
      "tade tantos tiempos, qualqeicra cola que fe aorevie en cada vno.\n",
      "‘haze mucho sl findel dia. Cjerto es, que al, rincipio fe ha de ir\n",
      "con efpacio, hafta que las manos (fc vayan h ibiruando : mas en\n",
      "\n",
      "-ettando habjtuadas , fe hace procurar que coalamano derecha\n",
      "\n",
      "fe traigalaletracon ferenidad,y repofo , ja hazer fonecitos, ot\n",
      "\n",
      "~ movimientos noneceffarias , de que algunos ticnen grande vi-\n",
      "\n",
      " :cio,que quando quieren no lo pueden remediar,y no firgen fino\n",
      "_ de gaftar elriempo fin fruto.En teniendo ya las manos fueltas,y —\n",
      "hechas a cftos movimientos , fe vera con experiencia lomucho |\n",
      "“mas que luce la compolicion.\n",
      "\n",
      "$\n",
      "\n",
      "CAPITVLO TERCERO.\n",
      "\n",
      "Explicacion de Ortographia, fegun la dolrina de Fel pe Mey en el\n",
      "\n",
      "Thelaurus verborum, de Guillelmo Foquel en{u Ortographia\n",
      "- ~ Caflellana, 9 onforme alacorreccion qué eftilara.\n",
      "Gongalo de Ayala. /\n",
      "\n",
      "Rihographiaes pa'abraGrieg1, que fignifica tanto co\n",
      "mo etcritura bien efcrita con propiedad , uo poniendo\n",
      "letras fuperfluas , nidexando de poner las neceffarias;\n",
      "\n",
      "adornandolacon fus apuntuaciones, y acentos, pata que bin\n",
      "\n",
      "fe entienda.Y aunque laletra enla efcricuracs Como elcucrpo,\n",
      "la Orthographia es alma della.\n",
      "Lasletrasdel Abecedario Cat ellano fon veinte y tres, atque\n",
      "algunosnodan por letras 4 laH wiala K,niala Y, por dezir que\n",
      "laHesfolo afpiracioa 5 y hablando enclidiuina Latino, y de\n",
      "- | a otlos\n",
      "\n",
      "4\n",
      "\n",
      "je\n",
      "\n",
      ".\n",
      "\n"
     ]
    }
   ],
   "source": [
    "ocr_result=pytesseract.image_to_string('training_file/Paredes-page_2.jpg')\n",
    "print(ocr_result)"
   ]
  },
  {
   "cell_type": "code",
   "execution_count": null,
   "metadata": {},
   "outputs": [],
   "source": []
  }
 ],
 "metadata": {
  "kernelspec": {
   "display_name": "Python 3",
   "language": "python",
   "name": "python3"
  },
  "language_info": {
   "codemirror_mode": {
    "name": "ipython",
    "version": 3
   },
   "file_extension": ".py",
   "mimetype": "text/x-python",
   "name": "python",
   "nbconvert_exporter": "python",
   "pygments_lexer": "ipython3",
   "version": "3.12.8"
  }
 },
 "nbformat": 4,
 "nbformat_minor": 2
}
